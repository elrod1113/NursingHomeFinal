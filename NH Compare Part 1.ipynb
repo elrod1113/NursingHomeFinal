{
  "cells": [
    {
      "cell_type": "code",
      "source": [
        "import pandas as pd"
      ],
      "outputs": [],
      "execution_count": 1,
      "metadata": {}
    },
    {
      "cell_type": "code",
      "source": [
        "#read file and drop NAN, specify column type\n",
        "df = pd.read_csv('Penalties by State CSV.csv')\n",
        "df_nona = df.dropna()\n",
        "df_nona.dtypes"
      ],
      "outputs": [
        {
          "output_type": "execute_result",
          "execution_count": 82,
          "data": {
            "text/plain": [
              "provnum             int64\n",
              "provname           object\n",
              "address            object\n",
              "city               object\n",
              "state              object\n",
              "zip                 int64\n",
              "pnlty_date         object\n",
              "pnlty_type         object\n",
              "fine_amt          float64\n",
              "payden_strt_dt     object\n",
              "payden_days       float64\n",
              "filedate           object\n",
              "dtype: object"
            ]
          },
          "metadata": {}
        }
      ],
      "execution_count": 82,
      "metadata": {}
    },
    {
      "cell_type": "code",
      "source": [
        "print (df)"
      ],
      "outputs": [
        {
          "output_type": "stream",
          "name": "stdout",
          "text": [
            "      provnum                                           provname  \\\n",
            "0       15019    MERRY WOOD LODGE CARE AND REHABILITATION CENTER   \n",
            "1       15027            WETUMPKA HEALTH AND REHABILITATION, LLC   \n",
            "2       15037              WOODLEY MANOR HEALTH & REHABILITATION   \n",
            "3       15047            NORTHWAY HEALTH AND REHABILITATION, LLC   \n",
            "4       15048                         CULLMAN HEALTH CARE CENTER   \n",
            "5       15053                       CLEBURNE COUNTY NURSING HOME   \n",
            "6       15053                       CLEBURNE COUNTY NURSING HOME   \n",
            "7       15060          TERRACE OAKS CARE & REHABILITATION CENTER   \n",
            "8       15060          TERRACE OAKS CARE & REHABILITATION CENTER   \n",
            "9       15083        ELBA NURSING AND REHABILITATION CENTER, LLC   \n",
            "10      15091     NORTH HILL NURSING AND REHABILITATION CTR, LLC   \n",
            "11      15091     NORTH HILL NURSING AND REHABILITATION CTR, LLC   \n",
            "12      15114                     SHADESCREST HEALTH CARE CENTER   \n",
            "13      15128                            NHC HEALTHCARE, MOULTON   \n",
            "14      15134  BIRMINGHAM NURSING AND REHABILITATION CENTER EAST   \n",
            "15      15135                           JOHN KNOX MANOR INC  I I   \n",
            "16      15145                  GOLDEN LIVING CENTER - RIVERCHASE   \n",
            "17      15151                           AZALEA GARDENS OF MOBILE   \n",
            "18      15163                           ALBERTVILLE NURSING HOME   \n",
            "19      15166                        DADEVILLE HEALTHCARE CENTER   \n",
            "20      15166                        DADEVILLE HEALTHCARE CENTER   \n",
            "21      15169      FLORENCE NURSING AND REHABILITATION CTR,  LLC   \n",
            "22      15178                         GREENE COUNTY NURSING HOME   \n",
            "23      15182           GEORGIANA HEALTH AND REHABILITATION, LLC   \n",
            "24      15189                   GOLDEN LIVING CENTER - PELL CITY   \n",
            "25      15199                      CROWNE HEALTH CARE OF EUFAULA   \n",
            "26      15199                      CROWNE HEALTH CARE OF EUFAULA   \n",
            "27      15203                           ATTALLA HEALTH AND REHAB   \n",
            "28      15209                   GOLDEN LIVING CENTER - MEADOWOOD   \n",
            "29      15303          FAIRVIEW HEALTH AND REHABILITATION CENTER   \n",
            "...       ...                                                ...   \n",
            "6613   676344        MOUNT MORIAH HEALTH AND REHABILITATION, LLC   \n",
            "6614   676344        MOUNT MORIAH HEALTH AND REHABILITATION, LLC   \n",
            "6615   676344        MOUNT MORIAH HEALTH AND REHABILITATION, LLC   \n",
            "6616   676344        MOUNT MORIAH HEALTH AND REHABILITATION, LLC   \n",
            "6617   676345                               BEL AIR AT TERAVISTA   \n",
            "6618   676350                             THE HEIGHTS OF TOMBALL   \n",
            "6619   676351                           THE LANDING AT WATERMERE   \n",
            "6620   676351                           THE LANDING AT WATERMERE   \n",
            "6621   676351                           THE LANDING AT WATERMERE   \n",
            "6622   676356                       THE HEIGHTS OF NORTH HOUSTON   \n",
            "6623   676357                    THE BROADMOOR AT CREEKSIDE PARK   \n",
            "6624   676357                    THE BROADMOOR AT CREEKSIDE PARK   \n",
            "6625   676358                          THE VILLAGES ON MACARTHUR   \n",
            "6626   676359                   CORNERSTONE RETIREMENT COMMUNITY   \n",
            "6627   676359                   CORNERSTONE RETIREMENT COMMUNITY   \n",
            "6628   676359                   CORNERSTONE RETIREMENT COMMUNITY   \n",
            "6629   676360                         THE RIO AT MAINLAND CENTER   \n",
            "6630   676361          EAGLE LAKE NURSING AND REHABILITATION, LP   \n",
            "6631   676361          EAGLE LAKE NURSING AND REHABILITATION, LP   \n",
            "6632   676362                  BRIDGECREST REHABILITATION SUITES   \n",
            "6633   676362                  BRIDGECREST REHABILITATION SUITES   \n",
            "6634   676371         WINDSOR QUAIL VALLEY POST-ACUTE HEALTHCARE   \n",
            "6635   676376                                      SILVER SPRING   \n",
            "6636   676379              PATHWAYS MEMORY CARE AT VILLA TOSCANA   \n",
            "6637   676381  WEST HOUSTON REHABILITATION AND HEALTHCARE CENTER   \n",
            "6638   676381  WEST HOUSTON REHABILITATION AND HEALTHCARE CENTER   \n",
            "6639   676383                NEW BOSTON HEALTH HEALTHCARE CENTER   \n",
            "6640   676383                NEW BOSTON HEALTH HEALTHCARE CENTER   \n",
            "6641   676383                NEW BOSTON HEALTH HEALTHCARE CENTER   \n",
            "6642   676383                NEW BOSTON HEALTH HEALTHCARE CENTER   \n",
            "\n",
            "                           address           city state    zip  pnlty_date  \\\n",
            "0                      P O BOX 130         ELMORE    AL  36025   10/2/2014   \n",
            "1              1825 HOLTVILLE ROAD       WETUMPKA    AL  36092    6/6/2014   \n",
            "2                3312 WOODLEY ROAD     MONTGOMERY    AL  36116   5/21/2015   \n",
            "3           1424 NORTH 25TH STREET     BIRMINGHAM    AL  35234   1/27/2016   \n",
            "4                 1607 MAIN AVE NE        CULLMAN    AL  35055   1/14/2016   \n",
            "5               122 BROCKFORD ROAD         HEFLIN    AL  36264   5/16/2014   \n",
            "6               122 BROCKFORD ROAD         HEFLIN    AL  36264   5/16/2014   \n",
            "7      4201 BESSEMER SUPER HIGHWAY       BESSEMER    AL  35020   4/16/2015   \n",
            "8      4201 BESSEMER SUPER HIGHWAY       BESSEMER    AL  35020   1/16/2014   \n",
            "9               987 DRAYTON STREET           ELBA    AL  36323   2/22/2015   \n",
            "10        200 NORTH PINE HILL ROAD     BIRMINGHAM    AL  35217  10/11/2013   \n",
            "11        200 NORTH PINE HILL ROAD     BIRMINGHAM    AL  35217  10/11/2013   \n",
            "12            331 WEST 25TH STREET         JASPER    AL  35502    3/6/2014   \n",
            "13             300 HOSPITAL STREET        MOULTON    AL  35650    8/1/2014   \n",
            "14              733 MARY VANN LANE     BIRMINGHAM    AL  35215   3/13/2014   \n",
            "15           4401 NARROW LANE ROAD     MONTGOMERY    AL  36116   9/24/2015   \n",
            "16           2500 RIVERHAVEN DRIVE     BIRMINGHAM    AL  35244   10/2/2014   \n",
            "17             1758 SPRINGHILL AVE         MOBILE    AL  36607   7/31/2014   \n",
            "18    750 ALABAMA HIGHWAY 75 NORTH    ALBERTVILLE    AL  35950    9/3/2015   \n",
            "19           351 NORTH EAST STREET      DADEVILLE    AL  36853  10/14/2015   \n",
            "20           351 NORTH EAST STREET      DADEVILLE    AL  36853  10/14/2015   \n",
            "21                 2107 CLOYD BLVD       FLORENCE    AL  35630  11/20/2014   \n",
            "22                  509 WILSON AVE          EUTAW    AL  35462   6/26/2014   \n",
            "23               206 PALMER AVENUE      GEORGIANA    AL  36033   11/6/2014   \n",
            "24      510 WOLF CREEK ROAD, NORTH      PELL CITY    AL  35125   3/12/2015   \n",
            "25               430 RIVERS AVENUE        EUFAULA    AL  36027   12/8/2013   \n",
            "26               430 RIVERS AVENUE        EUFAULA    AL  36027   12/8/2013   \n",
            "27    915 STEWART AVENUE SOUTHEAST        ATTALLA    AL  35954    2/5/2016   \n",
            "28            820 GOLF COURSE ROAD       BESSEMER    AL  35020   7/14/2016   \n",
            "29                1028 BESSEMER RD     BIRMINGHAM    AL  35228   1/23/2015   \n",
            "...                            ...            ...   ...    ...         ...   \n",
            "6613                   355 FM 83 W       HEMPHILL    TX  75948   3/29/2016   \n",
            "6614                   355 FM 83 W       HEMPHILL    TX  75948   3/29/2016   \n",
            "6615                   355 FM 83 W       HEMPHILL    TX  75948  11/11/2015   \n",
            "6616                   355 FM 83 W       HEMPHILL    TX  75948  11/11/2015   \n",
            "6617     4105 TERAVISTA CLUB DRIVE     ROUND ROCK    TX  78665   2/13/2014   \n",
            "6618            27840 JOHNSON ROAD        TOMBALL    TX  77375   5/14/2014   \n",
            "6619           201 WATERMERE DRIVE      SOUTHLAKE    TX  76092  11/18/2015   \n",
            "6620           201 WATERMERE DRIVE      SOUTHLAKE    TX  76092  11/18/2015   \n",
            "6621           201 WATERMERE DRIVE      SOUTHLAKE    TX  76092   1/31/2015   \n",
            "6622          303 HOLLOW TREE LANE        HOUSTON    TX  77090  10/14/2014   \n",
            "6623   5665 CREEKSIDE FOREST DRIVE  THE WOODLANDS    TX  77389   9/22/2015   \n",
            "6624   5665 CREEKSIDE FOREST DRIVE  THE WOODLANDS    TX  77389   9/22/2015   \n",
            "6625         3443 N MACARTHUR BLVD         IRVING    TX  75062    5/6/2016   \n",
            "6626                4100 MOORES LN      TEXARKANA    TX  75503   8/28/2014   \n",
            "6627                4100 MOORES LN      TEXARKANA    TX  75503   8/28/2014   \n",
            "6628                4100 MOORES LN      TEXARKANA    TX  75503   8/28/2014   \n",
            "6629       1011 MAINLAND CENTER DR     TEXAS CITY    TX  77591   3/22/2016   \n",
            "6630             535 S AUSTIN ROAD     EAGLE LAKE    TX  77434   4/14/2016   \n",
            "6631             535 S AUSTIN ROAD     EAGLE LAKE    TX  77434   4/14/2016   \n",
            "6632           14100 KARISSA COURT        HOUSTON    TX  77049  10/28/2014   \n",
            "6633           14100 KARISSA COURT        HOUSTON    TX  77049  10/28/2014   \n",
            "6634               3640 HAMPTON DR  MISSOURI CITY    TX  77459  11/19/2015   \n",
            "6635        1690 N. TREADWAY BLVD.        ABILENE    TX  79601   12/3/2015   \n",
            "6636    2930 CYPRESS GROVE MEADOWS        HOUSTON    TX  77014   2/18/2016   \n",
            "6637               13428 BISSONNET        HOUSTON    TX  77083  11/19/2015   \n",
            "6638               13428 BISSONNET        HOUSTON    TX  77083   7/30/2015   \n",
            "6639                   210 RICE ST     NEW BOSTON    TX  75570   5/18/2016   \n",
            "6640                   210 RICE ST     NEW BOSTON    TX  75570    3/1/2016   \n",
            "6641                   210 RICE ST     NEW BOSTON    TX  75570    3/1/2016   \n",
            "6642                   210 RICE ST     NEW BOSTON    TX  75570   9/14/2015   \n",
            "\n",
            "          pnlty_type  fine_amt payden_strt_dt  payden_days   filedate  \n",
            "0               Fine    6600.0            NaN          NaN  10/1/2016  \n",
            "1               Fine   13800.0            NaN          NaN  10/1/2016  \n",
            "2               Fine   13813.0            NaN          NaN  10/1/2016  \n",
            "3               Fine   13260.0            NaN          NaN  10/1/2016  \n",
            "4               Fine    2210.0            NaN          NaN  10/1/2016  \n",
            "5               Fine  142870.0            NaN          NaN  10/1/2016  \n",
            "6     Payment Denial       NaN      7/10/2014          5.0  10/1/2016  \n",
            "7               Fine   58273.0            NaN          NaN  10/1/2016  \n",
            "8               Fine    6338.0            NaN          NaN  10/1/2016  \n",
            "9               Fine  134900.0            NaN          NaN  10/1/2016  \n",
            "10              Fine   14625.0            NaN          NaN  10/1/2016  \n",
            "11    Payment Denial       NaN      1/11/2014         58.0  10/1/2016  \n",
            "12              Fine  189763.0            NaN          NaN  10/1/2016  \n",
            "13              Fine   71500.0            NaN          NaN  10/1/2016  \n",
            "14              Fine   24180.0            NaN          NaN  10/1/2016  \n",
            "15              Fine    5363.0            NaN          NaN  10/1/2016  \n",
            "16              Fine    3900.0            NaN          NaN  10/1/2016  \n",
            "17              Fine    6500.0            NaN          NaN  10/1/2016  \n",
            "18              Fine    4100.0            NaN          NaN  10/1/2016  \n",
            "19              Fine  183105.0            NaN          NaN  10/1/2016  \n",
            "20    Payment Denial       NaN     11/19/2015         40.0  10/1/2016  \n",
            "21              Fine    6435.0            NaN          NaN  10/1/2016  \n",
            "22              Fine   15600.0            NaN          NaN  10/1/2016  \n",
            "23              Fine    3640.0            NaN          NaN  10/1/2016  \n",
            "24              Fine   44400.0            NaN          NaN  10/1/2016  \n",
            "25              Fine    6500.0            NaN          NaN  10/1/2016  \n",
            "26    Payment Denial       NaN      1/10/2014          3.0  10/1/2016  \n",
            "27              Fine   59881.0            NaN          NaN  10/1/2016  \n",
            "28              Fine    1300.0            NaN          NaN  10/1/2016  \n",
            "29              Fine    4843.0            NaN          NaN  10/1/2016  \n",
            "...              ...       ...            ...          ...        ...  \n",
            "6613            Fine    4500.0            NaN          NaN  10/1/2016  \n",
            "6614  Payment Denial       NaN      4/27/2016         51.0  10/1/2016  \n",
            "6615            Fine    1170.0            NaN          NaN  10/1/2016  \n",
            "6616  Payment Denial       NaN      12/9/2015          2.0  10/1/2016  \n",
            "6617            Fine    1300.0            NaN          NaN  10/1/2016  \n",
            "6618            Fine    1268.0            NaN          NaN  10/1/2016  \n",
            "6619            Fine   83940.0            NaN          NaN  10/1/2016  \n",
            "6620  Payment Denial       NaN     12/19/2015         11.0  10/1/2016  \n",
            "6621            Fine  119633.0            NaN          NaN  10/1/2016  \n",
            "6622  Payment Denial       NaN      2/26/2015         20.0  10/1/2016  \n",
            "6623            Fine    3250.0            NaN          NaN  10/1/2016  \n",
            "6624            Fine    3250.0            NaN          NaN  10/1/2016  \n",
            "6625            Fine    2600.0            NaN          NaN  10/1/2016  \n",
            "6626            Fine    3250.0            NaN          NaN  10/1/2016  \n",
            "6627            Fine    2275.0            NaN          NaN  10/1/2016  \n",
            "6628  Payment Denial       NaN      9/27/2014          6.0  10/1/2016  \n",
            "6629  Payment Denial       NaN      4/20/2016         82.0  10/1/2016  \n",
            "6630            Fine    1105.0            NaN          NaN  10/1/2016  \n",
            "6631  Payment Denial       NaN      5/13/2016          3.0  10/1/2016  \n",
            "6632            Fine    1625.0            NaN          NaN  10/1/2016  \n",
            "6633  Payment Denial       NaN      1/15/2015         25.0  10/1/2016  \n",
            "6634  Payment Denial       NaN     12/19/2015         27.0  10/1/2016  \n",
            "6635            Fine   23537.0            NaN          NaN  10/1/2016  \n",
            "6636  Payment Denial       NaN      3/19/2016         22.0  10/1/2016  \n",
            "6637  Payment Denial       NaN     12/22/2015         31.0  10/1/2016  \n",
            "6638            Fine   27593.0            NaN          NaN  10/1/2016  \n",
            "6639  Payment Denial       NaN      6/17/2016          7.0  10/1/2016  \n",
            "6640            Fine    1450.0            NaN          NaN  10/1/2016  \n",
            "6641  Payment Denial       NaN      3/30/2016         35.0  10/1/2016  \n",
            "6642  Payment Denial       NaN      10/6/2015         29.0  10/1/2016  \n",
            "\n",
            "[6643 rows x 12 columns]\n"
          ]
        }
      ],
      "execution_count": 83,
      "metadata": {}
    },
    {
      "cell_type": "code",
      "source": [
        "#Import dependencies\n",
        "import csv\n",
        "import numpy as np\n",
        "from matplotlib import pyplot as plt\n",
        "from scipy import stats\n",
        "import requests\n",
        "import json\n",
        "import statistics\n",
        "%matplotlib inline"
      ],
      "outputs": [],
      "execution_count": 85,
      "metadata": {}
    },
    {
      "cell_type": "code",
      "source": [
        "list (df)"
      ],
      "outputs": [
        {
          "output_type": "execute_result",
          "execution_count": 47,
          "data": {
            "text/plain": [
              "['provnum',\n",
              " 'provname',\n",
              " 'address',\n",
              " 'city',\n",
              " 'state',\n",
              " 'zip',\n",
              " 'pnlty_date',\n",
              " 'pnlty_type',\n",
              " 'fine_amt',\n",
              " 'payden_strt_dt',\n",
              " 'payden_days',\n",
              " 'filedate']"
            ]
          },
          "metadata": {}
        }
      ],
      "execution_count": 47,
      "metadata": {}
    },
    {
      "cell_type": "raw",
      "source": [
        "data = pd.read_csv ('Penalties By State CSV.csv')\n",
        "df = pd.DataFrame(data, columns= ['state', 'fine-amt'])\n",
        "print (df)"
      ],
      "metadata": {}
    },
    {
      "cell_type": "code",
      "source": [
        "#Avg Fine Overall\n",
        "df.loc[:, \"fine_amt\"].mean()"
      ],
      "outputs": [
        {
          "output_type": "execute_result",
          "execution_count": 89,
          "data": {
            "text/plain": [
              "24949.768437141764"
            ]
          },
          "metadata": {}
        }
      ],
      "execution_count": 89,
      "metadata": {}
    },
    {
      "cell_type": "code",
      "source": [
        "group_by_state = data.groupby(['state'])\n",
        "print(group_by_state)"
      ],
      "outputs": [
        {
          "output_type": "stream",
          "name": "stdout",
          "text": [
            "<pandas.core.groupby.generic.DataFrameGroupBy object at 0x00000239DC70FF28>\n"
          ]
        }
      ],
      "execution_count": 94,
      "metadata": {}
    },
    {
      "cell_type": "code",
      "source": [
        "group_by_state.mean()"
      ],
      "outputs": [
        {
          "output_type": "execute_result",
          "execution_count": 92,
          "data": {
            "text/html": [
              "<div>\n",
              "<style scoped>\n",
              "    .dataframe tbody tr th:only-of-type {\n",
              "        vertical-align: middle;\n",
              "    }\n",
              "\n",
              "    .dataframe tbody tr th {\n",
              "        vertical-align: top;\n",
              "    }\n",
              "\n",
              "    .dataframe thead th {\n",
              "        text-align: right;\n",
              "    }\n",
              "</style>\n",
              "<table border=\"1\" class=\"dataframe\">\n",
              "  <thead>\n",
              "    <tr style=\"text-align: right;\">\n",
              "      <th></th>\n",
              "      <th></th>\n",
              "      <th>provnum</th>\n",
              "      <th>zip</th>\n",
              "      <th>payden_days</th>\n",
              "    </tr>\n",
              "    <tr>\n",
              "      <th>state</th>\n",
              "      <th>fine_amt</th>\n",
              "      <th></th>\n",
              "      <th></th>\n",
              "      <th></th>\n",
              "    </tr>\n",
              "  </thead>\n",
              "  <tbody>\n",
              "    <tr>\n",
              "      <th rowspan=\"10\" valign=\"top\">AK</th>\n",
              "      <th>1105.0</th>\n",
              "      <td>25026.000000</td>\n",
              "      <td>99762.00</td>\n",
              "      <td>NaN</td>\n",
              "    </tr>\n",
              "    <tr>\n",
              "      <th>1170.0</th>\n",
              "      <td>25025.000000</td>\n",
              "      <td>99504.00</td>\n",
              "      <td>NaN</td>\n",
              "    </tr>\n",
              "    <tr>\n",
              "      <th>1300.0</th>\n",
              "      <td>25015.000000</td>\n",
              "      <td>99929.00</td>\n",
              "      <td>NaN</td>\n",
              "    </tr>\n",
              "    <tr>\n",
              "      <th>1983.0</th>\n",
              "      <td>25032.000000</td>\n",
              "      <td>99835.00</td>\n",
              "      <td>NaN</td>\n",
              "    </tr>\n",
              "    <tr>\n",
              "      <th>2100.0</th>\n",
              "      <td>25032.000000</td>\n",
              "      <td>99835.00</td>\n",
              "      <td>NaN</td>\n",
              "    </tr>\n",
              "    <tr>\n",
              "      <th>3575.0</th>\n",
              "      <td>25032.000000</td>\n",
              "      <td>99835.00</td>\n",
              "      <td>NaN</td>\n",
              "    </tr>\n",
              "    <tr>\n",
              "      <th>3900.0</th>\n",
              "      <td>25026.000000</td>\n",
              "      <td>99744.00</td>\n",
              "      <td>NaN</td>\n",
              "    </tr>\n",
              "    <tr>\n",
              "      <th>6500.0</th>\n",
              "      <td>25037.000000</td>\n",
              "      <td>99559.00</td>\n",
              "      <td>NaN</td>\n",
              "    </tr>\n",
              "    <tr>\n",
              "      <th>21548.0</th>\n",
              "      <td>25028.000000</td>\n",
              "      <td>99574.00</td>\n",
              "      <td>NaN</td>\n",
              "    </tr>\n",
              "    <tr>\n",
              "      <th>63700.0</th>\n",
              "      <td>25025.000000</td>\n",
              "      <td>99504.00</td>\n",
              "      <td>NaN</td>\n",
              "    </tr>\n",
              "    <tr>\n",
              "      <th rowspan=\"20\" valign=\"top\">AL</th>\n",
              "      <th>650.0</th>\n",
              "      <td>15398.500000</td>\n",
              "      <td>36304.25</td>\n",
              "      <td>NaN</td>\n",
              "    </tr>\n",
              "    <tr>\n",
              "      <th>715.0</th>\n",
              "      <td>15375.000000</td>\n",
              "      <td>36207.00</td>\n",
              "      <td>NaN</td>\n",
              "    </tr>\n",
              "    <tr>\n",
              "      <th>1300.0</th>\n",
              "      <td>15340.333333</td>\n",
              "      <td>36034.00</td>\n",
              "      <td>NaN</td>\n",
              "    </tr>\n",
              "    <tr>\n",
              "      <th>1463.0</th>\n",
              "      <td>15445.000000</td>\n",
              "      <td>35214.00</td>\n",
              "      <td>NaN</td>\n",
              "    </tr>\n",
              "    <tr>\n",
              "      <th>2210.0</th>\n",
              "      <td>15048.000000</td>\n",
              "      <td>35055.00</td>\n",
              "      <td>NaN</td>\n",
              "    </tr>\n",
              "    <tr>\n",
              "      <th>2438.0</th>\n",
              "      <td>15382.000000</td>\n",
              "      <td>36869.00</td>\n",
              "      <td>NaN</td>\n",
              "    </tr>\n",
              "    <tr>\n",
              "      <th>3200.0</th>\n",
              "      <td>15424.000000</td>\n",
              "      <td>36274.00</td>\n",
              "      <td>NaN</td>\n",
              "    </tr>\n",
              "    <tr>\n",
              "      <th>3640.0</th>\n",
              "      <td>15182.000000</td>\n",
              "      <td>36033.00</td>\n",
              "      <td>NaN</td>\n",
              "    </tr>\n",
              "    <tr>\n",
              "      <th>3900.0</th>\n",
              "      <td>15145.000000</td>\n",
              "      <td>35244.00</td>\n",
              "      <td>NaN</td>\n",
              "    </tr>\n",
              "    <tr>\n",
              "      <th>4100.0</th>\n",
              "      <td>15163.000000</td>\n",
              "      <td>35950.00</td>\n",
              "      <td>NaN</td>\n",
              "    </tr>\n",
              "    <tr>\n",
              "      <th>4550.0</th>\n",
              "      <td>15421.500000</td>\n",
              "      <td>35998.00</td>\n",
              "      <td>NaN</td>\n",
              "    </tr>\n",
              "    <tr>\n",
              "      <th>4843.0</th>\n",
              "      <td>15303.000000</td>\n",
              "      <td>35228.00</td>\n",
              "      <td>NaN</td>\n",
              "    </tr>\n",
              "    <tr>\n",
              "      <th>5363.0</th>\n",
              "      <td>15135.000000</td>\n",
              "      <td>36116.00</td>\n",
              "      <td>NaN</td>\n",
              "    </tr>\n",
              "    <tr>\n",
              "      <th>5525.0</th>\n",
              "      <td>15459.000000</td>\n",
              "      <td>35244.00</td>\n",
              "      <td>NaN</td>\n",
              "    </tr>\n",
              "    <tr>\n",
              "      <th>6338.0</th>\n",
              "      <td>15060.000000</td>\n",
              "      <td>35020.00</td>\n",
              "      <td>NaN</td>\n",
              "    </tr>\n",
              "    <tr>\n",
              "      <th>6400.0</th>\n",
              "      <td>15435.000000</td>\n",
              "      <td>36608.00</td>\n",
              "      <td>NaN</td>\n",
              "    </tr>\n",
              "    <tr>\n",
              "      <th>6435.0</th>\n",
              "      <td>15169.000000</td>\n",
              "      <td>35630.00</td>\n",
              "      <td>NaN</td>\n",
              "    </tr>\n",
              "    <tr>\n",
              "      <th>6500.0</th>\n",
              "      <td>15175.000000</td>\n",
              "      <td>36317.00</td>\n",
              "      <td>NaN</td>\n",
              "    </tr>\n",
              "    <tr>\n",
              "      <th>6600.0</th>\n",
              "      <td>15019.000000</td>\n",
              "      <td>36025.00</td>\n",
              "      <td>NaN</td>\n",
              "    </tr>\n",
              "    <tr>\n",
              "      <th>8970.0</th>\n",
              "      <td>15379.000000</td>\n",
              "      <td>36695.00</td>\n",
              "      <td>NaN</td>\n",
              "    </tr>\n",
              "    <tr>\n",
              "      <th>...</th>\n",
              "      <th>...</th>\n",
              "      <td>...</td>\n",
              "      <td>...</td>\n",
              "      <td>...</td>\n",
              "    </tr>\n",
              "    <tr>\n",
              "      <th rowspan=\"5\" valign=\"top\">WI</th>\n",
              "      <th>88628.0</th>\n",
              "      <td>525390.000000</td>\n",
              "      <td>53547.00</td>\n",
              "      <td>NaN</td>\n",
              "    </tr>\n",
              "    <tr>\n",
              "      <th>90253.0</th>\n",
              "      <td>525273.000000</td>\n",
              "      <td>53511.00</td>\n",
              "      <td>NaN</td>\n",
              "    </tr>\n",
              "    <tr>\n",
              "      <th>103578.0</th>\n",
              "      <td>525415.000000</td>\n",
              "      <td>53051.00</td>\n",
              "      <td>NaN</td>\n",
              "    </tr>\n",
              "    <tr>\n",
              "      <th>113690.0</th>\n",
              "      <td>525484.000000</td>\n",
              "      <td>54911.00</td>\n",
              "      <td>NaN</td>\n",
              "    </tr>\n",
              "    <tr>\n",
              "      <th>160615.0</th>\n",
              "      <td>525309.000000</td>\n",
              "      <td>53209.00</td>\n",
              "      <td>NaN</td>\n",
              "    </tr>\n",
              "    <tr>\n",
              "      <th rowspan=\"25\" valign=\"top\">WV</th>\n",
              "      <th>1950.0</th>\n",
              "      <td>515185.000000</td>\n",
              "      <td>24901.00</td>\n",
              "      <td>NaN</td>\n",
              "    </tr>\n",
              "    <tr>\n",
              "      <th>4550.0</th>\n",
              "      <td>515021.000000</td>\n",
              "      <td>25727.00</td>\n",
              "      <td>NaN</td>\n",
              "    </tr>\n",
              "    <tr>\n",
              "      <th>5363.0</th>\n",
              "      <td>515181.000000</td>\n",
              "      <td>26104.00</td>\n",
              "      <td>NaN</td>\n",
              "    </tr>\n",
              "    <tr>\n",
              "      <th>5428.0</th>\n",
              "      <td>515029.000000</td>\n",
              "      <td>26651.00</td>\n",
              "      <td>NaN</td>\n",
              "    </tr>\n",
              "    <tr>\n",
              "      <th>8353.0</th>\n",
              "      <td>515107.000000</td>\n",
              "      <td>26330.00</td>\n",
              "      <td>NaN</td>\n",
              "    </tr>\n",
              "    <tr>\n",
              "      <th>11083.0</th>\n",
              "      <td>515160.000000</td>\n",
              "      <td>26378.00</td>\n",
              "      <td>NaN</td>\n",
              "    </tr>\n",
              "    <tr>\n",
              "      <th>22100.0</th>\n",
              "      <td>515180.000000</td>\n",
              "      <td>26601.00</td>\n",
              "      <td>NaN</td>\n",
              "    </tr>\n",
              "    <tr>\n",
              "      <th>22426.0</th>\n",
              "      <td>515122.000000</td>\n",
              "      <td>26726.00</td>\n",
              "      <td>NaN</td>\n",
              "    </tr>\n",
              "    <tr>\n",
              "      <th>24180.0</th>\n",
              "      <td>515076.000000</td>\n",
              "      <td>25951.00</td>\n",
              "      <td>NaN</td>\n",
              "    </tr>\n",
              "    <tr>\n",
              "      <th>29398.0</th>\n",
              "      <td>515028.000000</td>\n",
              "      <td>24740.00</td>\n",
              "      <td>NaN</td>\n",
              "    </tr>\n",
              "    <tr>\n",
              "      <th>30355.0</th>\n",
              "      <td>515159.000000</td>\n",
              "      <td>26101.00</td>\n",
              "      <td>NaN</td>\n",
              "    </tr>\n",
              "    <tr>\n",
              "      <th>33638.0</th>\n",
              "      <td>515061.000000</td>\n",
              "      <td>25855.00</td>\n",
              "      <td>NaN</td>\n",
              "    </tr>\n",
              "    <tr>\n",
              "      <th>54925.0</th>\n",
              "      <td>515129.000000</td>\n",
              "      <td>26416.00</td>\n",
              "      <td>NaN</td>\n",
              "    </tr>\n",
              "    <tr>\n",
              "      <th>55803.0</th>\n",
              "      <td>515113.000000</td>\n",
              "      <td>25702.00</td>\n",
              "      <td>NaN</td>\n",
              "    </tr>\n",
              "    <tr>\n",
              "      <th>60505.0</th>\n",
              "      <td>515057.000000</td>\n",
              "      <td>26354.00</td>\n",
              "      <td>NaN</td>\n",
              "    </tr>\n",
              "    <tr>\n",
              "      <th>66105.0</th>\n",
              "      <td>515060.000000</td>\n",
              "      <td>25701.00</td>\n",
              "      <td>NaN</td>\n",
              "    </tr>\n",
              "    <tr>\n",
              "      <th>74588.0</th>\n",
              "      <td>515075.000000</td>\n",
              "      <td>26554.00</td>\n",
              "      <td>NaN</td>\n",
              "    </tr>\n",
              "    <tr>\n",
              "      <th>81900.0</th>\n",
              "      <td>515187.000000</td>\n",
              "      <td>24740.00</td>\n",
              "      <td>NaN</td>\n",
              "    </tr>\n",
              "    <tr>\n",
              "      <th>91780.0</th>\n",
              "      <td>515035.000000</td>\n",
              "      <td>25177.00</td>\n",
              "      <td>NaN</td>\n",
              "    </tr>\n",
              "    <tr>\n",
              "      <th>99710.0</th>\n",
              "      <td>515192.000000</td>\n",
              "      <td>25510.00</td>\n",
              "      <td>NaN</td>\n",
              "    </tr>\n",
              "    <tr>\n",
              "      <th>101002.0</th>\n",
              "      <td>515064.000000</td>\n",
              "      <td>25550.00</td>\n",
              "      <td>NaN</td>\n",
              "    </tr>\n",
              "    <tr>\n",
              "      <th>120511.0</th>\n",
              "      <td>515185.000000</td>\n",
              "      <td>24901.00</td>\n",
              "      <td>NaN</td>\n",
              "    </tr>\n",
              "    <tr>\n",
              "      <th>198185.0</th>\n",
              "      <td>515061.000000</td>\n",
              "      <td>25855.00</td>\n",
              "      <td>NaN</td>\n",
              "    </tr>\n",
              "    <tr>\n",
              "      <th>237120.0</th>\n",
              "      <td>515189.000000</td>\n",
              "      <td>26554.00</td>\n",
              "      <td>NaN</td>\n",
              "    </tr>\n",
              "    <tr>\n",
              "      <th>541385.0</th>\n",
              "      <td>515035.000000</td>\n",
              "      <td>25177.00</td>\n",
              "      <td>NaN</td>\n",
              "    </tr>\n",
              "  </tbody>\n",
              "</table>\n",
              "<p>3591 rows × 3 columns</p>\n",
              "</div>"
            ],
            "text/plain": [
              "                      provnum       zip  payden_days\n",
              "state fine_amt                                      \n",
              "AK    1105.0     25026.000000  99762.00          NaN\n",
              "      1170.0     25025.000000  99504.00          NaN\n",
              "      1300.0     25015.000000  99929.00          NaN\n",
              "      1983.0     25032.000000  99835.00          NaN\n",
              "      2100.0     25032.000000  99835.00          NaN\n",
              "      3575.0     25032.000000  99835.00          NaN\n",
              "      3900.0     25026.000000  99744.00          NaN\n",
              "      6500.0     25037.000000  99559.00          NaN\n",
              "      21548.0    25028.000000  99574.00          NaN\n",
              "      63700.0    25025.000000  99504.00          NaN\n",
              "AL    650.0      15398.500000  36304.25          NaN\n",
              "      715.0      15375.000000  36207.00          NaN\n",
              "      1300.0     15340.333333  36034.00          NaN\n",
              "      1463.0     15445.000000  35214.00          NaN\n",
              "      2210.0     15048.000000  35055.00          NaN\n",
              "      2438.0     15382.000000  36869.00          NaN\n",
              "      3200.0     15424.000000  36274.00          NaN\n",
              "      3640.0     15182.000000  36033.00          NaN\n",
              "      3900.0     15145.000000  35244.00          NaN\n",
              "      4100.0     15163.000000  35950.00          NaN\n",
              "      4550.0     15421.500000  35998.00          NaN\n",
              "      4843.0     15303.000000  35228.00          NaN\n",
              "      5363.0     15135.000000  36116.00          NaN\n",
              "      5525.0     15459.000000  35244.00          NaN\n",
              "      6338.0     15060.000000  35020.00          NaN\n",
              "      6400.0     15435.000000  36608.00          NaN\n",
              "      6435.0     15169.000000  35630.00          NaN\n",
              "      6500.0     15175.000000  36317.00          NaN\n",
              "      6600.0     15019.000000  36025.00          NaN\n",
              "      8970.0     15379.000000  36695.00          NaN\n",
              "...                       ...       ...          ...\n",
              "WI    88628.0   525390.000000  53547.00          NaN\n",
              "      90253.0   525273.000000  53511.00          NaN\n",
              "      103578.0  525415.000000  53051.00          NaN\n",
              "      113690.0  525484.000000  54911.00          NaN\n",
              "      160615.0  525309.000000  53209.00          NaN\n",
              "WV    1950.0    515185.000000  24901.00          NaN\n",
              "      4550.0    515021.000000  25727.00          NaN\n",
              "      5363.0    515181.000000  26104.00          NaN\n",
              "      5428.0    515029.000000  26651.00          NaN\n",
              "      8353.0    515107.000000  26330.00          NaN\n",
              "      11083.0   515160.000000  26378.00          NaN\n",
              "      22100.0   515180.000000  26601.00          NaN\n",
              "      22426.0   515122.000000  26726.00          NaN\n",
              "      24180.0   515076.000000  25951.00          NaN\n",
              "      29398.0   515028.000000  24740.00          NaN\n",
              "      30355.0   515159.000000  26101.00          NaN\n",
              "      33638.0   515061.000000  25855.00          NaN\n",
              "      54925.0   515129.000000  26416.00          NaN\n",
              "      55803.0   515113.000000  25702.00          NaN\n",
              "      60505.0   515057.000000  26354.00          NaN\n",
              "      66105.0   515060.000000  25701.00          NaN\n",
              "      74588.0   515075.000000  26554.00          NaN\n",
              "      81900.0   515187.000000  24740.00          NaN\n",
              "      91780.0   515035.000000  25177.00          NaN\n",
              "      99710.0   515192.000000  25510.00          NaN\n",
              "      101002.0  515064.000000  25550.00          NaN\n",
              "      120511.0  515185.000000  24901.00          NaN\n",
              "      198185.0  515061.000000  25855.00          NaN\n",
              "      237120.0  515189.000000  26554.00          NaN\n",
              "      541385.0  515035.000000  25177.00          NaN\n",
              "\n",
              "[3591 rows x 3 columns]"
            ]
          },
          "metadata": {}
        }
      ],
      "execution_count": 92,
      "metadata": {
        "scrolled": false
      }
    },
    {
      "cell_type": "code",
      "source": [
        "df.drop([3, 4, 5])"
      ],
      "outputs": [
        {
          "output_type": "execute_result",
          "execution_count": 104,
          "data": {
            "text/html": [
              "<div>\n",
              "<style scoped>\n",
              "    .dataframe tbody tr th:only-of-type {\n",
              "        vertical-align: middle;\n",
              "    }\n",
              "\n",
              "    .dataframe tbody tr th {\n",
              "        vertical-align: top;\n",
              "    }\n",
              "\n",
              "    .dataframe thead th {\n",
              "        text-align: right;\n",
              "    }\n",
              "</style>\n",
              "<table border=\"1\" class=\"dataframe\">\n",
              "  <thead>\n",
              "    <tr style=\"text-align: right;\">\n",
              "      <th></th>\n",
              "      <th>state</th>\n",
              "      <th>fine-amt</th>\n",
              "    </tr>\n",
              "  </thead>\n",
              "  <tbody>\n",
              "    <tr>\n",
              "      <th>0</th>\n",
              "      <td>AL</td>\n",
              "      <td>NaN</td>\n",
              "    </tr>\n",
              "    <tr>\n",
              "      <th>1</th>\n",
              "      <td>AL</td>\n",
              "      <td>NaN</td>\n",
              "    </tr>\n",
              "    <tr>\n",
              "      <th>2</th>\n",
              "      <td>AL</td>\n",
              "      <td>NaN</td>\n",
              "    </tr>\n",
              "    <tr>\n",
              "      <th>6</th>\n",
              "      <td>AL</td>\n",
              "      <td>NaN</td>\n",
              "    </tr>\n",
              "    <tr>\n",
              "      <th>7</th>\n",
              "      <td>AL</td>\n",
              "      <td>NaN</td>\n",
              "    </tr>\n",
              "    <tr>\n",
              "      <th>8</th>\n",
              "      <td>AL</td>\n",
              "      <td>NaN</td>\n",
              "    </tr>\n",
              "    <tr>\n",
              "      <th>9</th>\n",
              "      <td>AL</td>\n",
              "      <td>NaN</td>\n",
              "    </tr>\n",
              "    <tr>\n",
              "      <th>10</th>\n",
              "      <td>AL</td>\n",
              "      <td>NaN</td>\n",
              "    </tr>\n",
              "    <tr>\n",
              "      <th>11</th>\n",
              "      <td>AL</td>\n",
              "      <td>NaN</td>\n",
              "    </tr>\n",
              "    <tr>\n",
              "      <th>12</th>\n",
              "      <td>AL</td>\n",
              "      <td>NaN</td>\n",
              "    </tr>\n",
              "    <tr>\n",
              "      <th>13</th>\n",
              "      <td>AL</td>\n",
              "      <td>NaN</td>\n",
              "    </tr>\n",
              "    <tr>\n",
              "      <th>14</th>\n",
              "      <td>AL</td>\n",
              "      <td>NaN</td>\n",
              "    </tr>\n",
              "    <tr>\n",
              "      <th>15</th>\n",
              "      <td>AL</td>\n",
              "      <td>NaN</td>\n",
              "    </tr>\n",
              "    <tr>\n",
              "      <th>16</th>\n",
              "      <td>AL</td>\n",
              "      <td>NaN</td>\n",
              "    </tr>\n",
              "    <tr>\n",
              "      <th>17</th>\n",
              "      <td>AL</td>\n",
              "      <td>NaN</td>\n",
              "    </tr>\n",
              "    <tr>\n",
              "      <th>18</th>\n",
              "      <td>AL</td>\n",
              "      <td>NaN</td>\n",
              "    </tr>\n",
              "    <tr>\n",
              "      <th>19</th>\n",
              "      <td>AL</td>\n",
              "      <td>NaN</td>\n",
              "    </tr>\n",
              "    <tr>\n",
              "      <th>20</th>\n",
              "      <td>AL</td>\n",
              "      <td>NaN</td>\n",
              "    </tr>\n",
              "    <tr>\n",
              "      <th>21</th>\n",
              "      <td>AL</td>\n",
              "      <td>NaN</td>\n",
              "    </tr>\n",
              "    <tr>\n",
              "      <th>22</th>\n",
              "      <td>AL</td>\n",
              "      <td>NaN</td>\n",
              "    </tr>\n",
              "    <tr>\n",
              "      <th>23</th>\n",
              "      <td>AL</td>\n",
              "      <td>NaN</td>\n",
              "    </tr>\n",
              "    <tr>\n",
              "      <th>24</th>\n",
              "      <td>AL</td>\n",
              "      <td>NaN</td>\n",
              "    </tr>\n",
              "    <tr>\n",
              "      <th>25</th>\n",
              "      <td>AL</td>\n",
              "      <td>NaN</td>\n",
              "    </tr>\n",
              "    <tr>\n",
              "      <th>26</th>\n",
              "      <td>AL</td>\n",
              "      <td>NaN</td>\n",
              "    </tr>\n",
              "    <tr>\n",
              "      <th>27</th>\n",
              "      <td>AL</td>\n",
              "      <td>NaN</td>\n",
              "    </tr>\n",
              "    <tr>\n",
              "      <th>28</th>\n",
              "      <td>AL</td>\n",
              "      <td>NaN</td>\n",
              "    </tr>\n",
              "    <tr>\n",
              "      <th>29</th>\n",
              "      <td>AL</td>\n",
              "      <td>NaN</td>\n",
              "    </tr>\n",
              "    <tr>\n",
              "      <th>30</th>\n",
              "      <td>AL</td>\n",
              "      <td>NaN</td>\n",
              "    </tr>\n",
              "    <tr>\n",
              "      <th>31</th>\n",
              "      <td>AL</td>\n",
              "      <td>NaN</td>\n",
              "    </tr>\n",
              "    <tr>\n",
              "      <th>32</th>\n",
              "      <td>AL</td>\n",
              "      <td>NaN</td>\n",
              "    </tr>\n",
              "    <tr>\n",
              "      <th>...</th>\n",
              "      <td>...</td>\n",
              "      <td>...</td>\n",
              "    </tr>\n",
              "    <tr>\n",
              "      <th>6613</th>\n",
              "      <td>TX</td>\n",
              "      <td>NaN</td>\n",
              "    </tr>\n",
              "    <tr>\n",
              "      <th>6614</th>\n",
              "      <td>TX</td>\n",
              "      <td>NaN</td>\n",
              "    </tr>\n",
              "    <tr>\n",
              "      <th>6615</th>\n",
              "      <td>TX</td>\n",
              "      <td>NaN</td>\n",
              "    </tr>\n",
              "    <tr>\n",
              "      <th>6616</th>\n",
              "      <td>TX</td>\n",
              "      <td>NaN</td>\n",
              "    </tr>\n",
              "    <tr>\n",
              "      <th>6617</th>\n",
              "      <td>TX</td>\n",
              "      <td>NaN</td>\n",
              "    </tr>\n",
              "    <tr>\n",
              "      <th>6618</th>\n",
              "      <td>TX</td>\n",
              "      <td>NaN</td>\n",
              "    </tr>\n",
              "    <tr>\n",
              "      <th>6619</th>\n",
              "      <td>TX</td>\n",
              "      <td>NaN</td>\n",
              "    </tr>\n",
              "    <tr>\n",
              "      <th>6620</th>\n",
              "      <td>TX</td>\n",
              "      <td>NaN</td>\n",
              "    </tr>\n",
              "    <tr>\n",
              "      <th>6621</th>\n",
              "      <td>TX</td>\n",
              "      <td>NaN</td>\n",
              "    </tr>\n",
              "    <tr>\n",
              "      <th>6622</th>\n",
              "      <td>TX</td>\n",
              "      <td>NaN</td>\n",
              "    </tr>\n",
              "    <tr>\n",
              "      <th>6623</th>\n",
              "      <td>TX</td>\n",
              "      <td>NaN</td>\n",
              "    </tr>\n",
              "    <tr>\n",
              "      <th>6624</th>\n",
              "      <td>TX</td>\n",
              "      <td>NaN</td>\n",
              "    </tr>\n",
              "    <tr>\n",
              "      <th>6625</th>\n",
              "      <td>TX</td>\n",
              "      <td>NaN</td>\n",
              "    </tr>\n",
              "    <tr>\n",
              "      <th>6626</th>\n",
              "      <td>TX</td>\n",
              "      <td>NaN</td>\n",
              "    </tr>\n",
              "    <tr>\n",
              "      <th>6627</th>\n",
              "      <td>TX</td>\n",
              "      <td>NaN</td>\n",
              "    </tr>\n",
              "    <tr>\n",
              "      <th>6628</th>\n",
              "      <td>TX</td>\n",
              "      <td>NaN</td>\n",
              "    </tr>\n",
              "    <tr>\n",
              "      <th>6629</th>\n",
              "      <td>TX</td>\n",
              "      <td>NaN</td>\n",
              "    </tr>\n",
              "    <tr>\n",
              "      <th>6630</th>\n",
              "      <td>TX</td>\n",
              "      <td>NaN</td>\n",
              "    </tr>\n",
              "    <tr>\n",
              "      <th>6631</th>\n",
              "      <td>TX</td>\n",
              "      <td>NaN</td>\n",
              "    </tr>\n",
              "    <tr>\n",
              "      <th>6632</th>\n",
              "      <td>TX</td>\n",
              "      <td>NaN</td>\n",
              "    </tr>\n",
              "    <tr>\n",
              "      <th>6633</th>\n",
              "      <td>TX</td>\n",
              "      <td>NaN</td>\n",
              "    </tr>\n",
              "    <tr>\n",
              "      <th>6634</th>\n",
              "      <td>TX</td>\n",
              "      <td>NaN</td>\n",
              "    </tr>\n",
              "    <tr>\n",
              "      <th>6635</th>\n",
              "      <td>TX</td>\n",
              "      <td>NaN</td>\n",
              "    </tr>\n",
              "    <tr>\n",
              "      <th>6636</th>\n",
              "      <td>TX</td>\n",
              "      <td>NaN</td>\n",
              "    </tr>\n",
              "    <tr>\n",
              "      <th>6637</th>\n",
              "      <td>TX</td>\n",
              "      <td>NaN</td>\n",
              "    </tr>\n",
              "    <tr>\n",
              "      <th>6638</th>\n",
              "      <td>TX</td>\n",
              "      <td>NaN</td>\n",
              "    </tr>\n",
              "    <tr>\n",
              "      <th>6639</th>\n",
              "      <td>TX</td>\n",
              "      <td>NaN</td>\n",
              "    </tr>\n",
              "    <tr>\n",
              "      <th>6640</th>\n",
              "      <td>TX</td>\n",
              "      <td>NaN</td>\n",
              "    </tr>\n",
              "    <tr>\n",
              "      <th>6641</th>\n",
              "      <td>TX</td>\n",
              "      <td>NaN</td>\n",
              "    </tr>\n",
              "    <tr>\n",
              "      <th>6642</th>\n",
              "      <td>TX</td>\n",
              "      <td>NaN</td>\n",
              "    </tr>\n",
              "  </tbody>\n",
              "</table>\n",
              "<p>6640 rows × 2 columns</p>\n",
              "</div>"
            ],
            "text/plain": [
              "     state  fine-amt\n",
              "0       AL       NaN\n",
              "1       AL       NaN\n",
              "2       AL       NaN\n",
              "6       AL       NaN\n",
              "7       AL       NaN\n",
              "8       AL       NaN\n",
              "9       AL       NaN\n",
              "10      AL       NaN\n",
              "11      AL       NaN\n",
              "12      AL       NaN\n",
              "13      AL       NaN\n",
              "14      AL       NaN\n",
              "15      AL       NaN\n",
              "16      AL       NaN\n",
              "17      AL       NaN\n",
              "18      AL       NaN\n",
              "19      AL       NaN\n",
              "20      AL       NaN\n",
              "21      AL       NaN\n",
              "22      AL       NaN\n",
              "23      AL       NaN\n",
              "24      AL       NaN\n",
              "25      AL       NaN\n",
              "26      AL       NaN\n",
              "27      AL       NaN\n",
              "28      AL       NaN\n",
              "29      AL       NaN\n",
              "30      AL       NaN\n",
              "31      AL       NaN\n",
              "32      AL       NaN\n",
              "...    ...       ...\n",
              "6613    TX       NaN\n",
              "6614    TX       NaN\n",
              "6615    TX       NaN\n",
              "6616    TX       NaN\n",
              "6617    TX       NaN\n",
              "6618    TX       NaN\n",
              "6619    TX       NaN\n",
              "6620    TX       NaN\n",
              "6621    TX       NaN\n",
              "6622    TX       NaN\n",
              "6623    TX       NaN\n",
              "6624    TX       NaN\n",
              "6625    TX       NaN\n",
              "6626    TX       NaN\n",
              "6627    TX       NaN\n",
              "6628    TX       NaN\n",
              "6629    TX       NaN\n",
              "6630    TX       NaN\n",
              "6631    TX       NaN\n",
              "6632    TX       NaN\n",
              "6633    TX       NaN\n",
              "6634    TX       NaN\n",
              "6635    TX       NaN\n",
              "6636    TX       NaN\n",
              "6637    TX       NaN\n",
              "6638    TX       NaN\n",
              "6639    TX       NaN\n",
              "6640    TX       NaN\n",
              "6641    TX       NaN\n",
              "6642    TX       NaN\n",
              "\n",
              "[6640 rows x 2 columns]"
            ]
          },
          "metadata": {}
        }
      ],
      "execution_count": 104,
      "metadata": {}
    },
    {
      "cell_type": "code",
      "source": [
        "#avg in Alaska\n",
        "AK = data[data['state'] == 'AK']['fine_amt']\n",
        "AK.mean()"
      ],
      "outputs": [
        {
          "output_type": "execute_result",
          "execution_count": 122,
          "data": {
            "text/plain": [
              "8701.615384615385"
            ]
          },
          "metadata": {}
        }
      ],
      "execution_count": 122,
      "metadata": {}
    },
    {
      "cell_type": "code",
      "source": [
        "#avg in Alabama\n",
        "AL = data[data['state'] == 'AL']['fine_amt']\n",
        "AL.mean()"
      ],
      "outputs": [
        {
          "output_type": "execute_result",
          "execution_count": 120,
          "data": {
            "text/plain": [
              "43613.87037037037"
            ]
          },
          "metadata": {}
        }
      ],
      "execution_count": 120,
      "metadata": {}
    },
    {
      "cell_type": "code",
      "source": [
        "#avg in Arkansas\n",
        "AR = data[data['state'] == 'AR']['fine_amt']\n",
        "AR.mean()"
      ],
      "outputs": [
        {
          "output_type": "execute_result",
          "execution_count": 123,
          "data": {
            "text/plain": [
              "28491.675438596492"
            ]
          },
          "metadata": {}
        }
      ],
      "execution_count": 123,
      "metadata": {}
    },
    {
      "cell_type": "code",
      "source": [
        "#avg in Arizona\n",
        "AZ = data[data['state'] == 'AZ']['fine_amt']\n",
        "AZ.mean()"
      ],
      "outputs": [
        {
          "output_type": "execute_result",
          "execution_count": 124,
          "data": {
            "text/plain": [
              "26090.387096774193"
            ]
          },
          "metadata": {}
        }
      ],
      "execution_count": 124,
      "metadata": {}
    },
    {
      "cell_type": "code",
      "source": [
        "#avg in California\n",
        "CA = data[data['state'] == 'CA']['fine_amt']\n",
        "CA.mean()"
      ],
      "outputs": [
        {
          "output_type": "execute_result",
          "execution_count": 125,
          "data": {
            "text/plain": [
              "25504.463829787233"
            ]
          },
          "metadata": {}
        }
      ],
      "execution_count": 125,
      "metadata": {}
    },
    {
      "cell_type": "code",
      "source": [
        "#avg in Colorado\n",
        "CO = data[data['state'] == 'CO']['fine_amt']\n",
        "CO.mean()"
      ],
      "outputs": [
        {
          "output_type": "execute_result",
          "execution_count": 127,
          "data": {
            "text/plain": [
              "6647.887640449439"
            ]
          },
          "metadata": {}
        }
      ],
      "execution_count": 127,
      "metadata": {}
    },
    {
      "cell_type": "code",
      "source": [
        "#avg in Connecticut\n",
        "CT = data[data['state'] == 'CT']['fine_amt']\n",
        "CT.mean()"
      ],
      "outputs": [
        {
          "output_type": "execute_result",
          "execution_count": 126,
          "data": {
            "text/plain": [
              "5119.935135135135"
            ]
          },
          "metadata": {}
        }
      ],
      "execution_count": 126,
      "metadata": {}
    },
    {
      "cell_type": "code",
      "source": [
        "#avg in Delaware\n",
        "DE = data[data['state'] == 'DE']['fine_amt']\n",
        "DE.mean()"
      ],
      "outputs": [
        {
          "output_type": "execute_result",
          "execution_count": 128,
          "data": {
            "text/plain": [
              "37635.142857142855"
            ]
          },
          "metadata": {}
        }
      ],
      "execution_count": 128,
      "metadata": {}
    },
    {
      "cell_type": "code",
      "source": [
        "#avg in DC (District of Columbia)\n",
        "DC = data[data['state'] == 'DC']['fine_amt']\n",
        "DC.mean()"
      ],
      "outputs": [
        {
          "output_type": "error",
          "ename": "NameError",
          "evalue": "name 'data' is not defined",
          "traceback": [
            "\u001b[1;31m---------------------------------------------------------------------------\u001b[0m",
            "\u001b[1;31mNameError\u001b[0m                                 Traceback (most recent call last)",
            "\u001b[1;32m<ipython-input-1-fde63710f0e1>\u001b[0m in \u001b[0;36m<module>\u001b[1;34m\u001b[0m\n\u001b[0;32m      1\u001b[0m \u001b[1;31m#avg in DC (District of Columbia)\u001b[0m\u001b[1;33m\u001b[0m\u001b[1;33m\u001b[0m\u001b[1;33m\u001b[0m\u001b[0m\n\u001b[1;32m----> 2\u001b[1;33m \u001b[0mDC\u001b[0m \u001b[1;33m=\u001b[0m \u001b[0mdata\u001b[0m\u001b[1;33m[\u001b[0m\u001b[0mdata\u001b[0m\u001b[1;33m[\u001b[0m\u001b[1;34m'state'\u001b[0m\u001b[1;33m]\u001b[0m \u001b[1;33m==\u001b[0m \u001b[1;34m'DC'\u001b[0m\u001b[1;33m]\u001b[0m\u001b[1;33m[\u001b[0m\u001b[1;34m'fine_amt'\u001b[0m\u001b[1;33m]\u001b[0m\u001b[1;33m\u001b[0m\u001b[1;33m\u001b[0m\u001b[0m\n\u001b[0m\u001b[0;32m      3\u001b[0m \u001b[0mDC\u001b[0m\u001b[1;33m.\u001b[0m\u001b[0mmean\u001b[0m\u001b[1;33m(\u001b[0m\u001b[1;33m)\u001b[0m\u001b[1;33m\u001b[0m\u001b[1;33m\u001b[0m\u001b[0m\n",
            "\u001b[1;31mNameError\u001b[0m: name 'data' is not defined"
          ]
        }
      ],
      "execution_count": 1,
      "metadata": {}
    },
    {
      "cell_type": "code",
      "source": [
        "#avg in Florida\n",
        "FL = data[data['state'] == 'FL']['fine_amt']\n",
        "FL.mean()"
      ],
      "outputs": [
        {
          "output_type": "execute_result",
          "execution_count": 129,
          "data": {
            "text/plain": [
              "25205.172804532576"
            ]
          },
          "metadata": {}
        }
      ],
      "execution_count": 129,
      "metadata": {}
    },
    {
      "cell_type": "code",
      "source": [
        "#avg in Georgia\n",
        "GA = data[data['state'] == 'GA']['fine_amt']\n",
        "GA.mean()"
      ],
      "outputs": [
        {
          "output_type": "execute_result",
          "execution_count": 130,
          "data": {
            "text/plain": [
              "46303.42452830189"
            ]
          },
          "metadata": {}
        }
      ],
      "execution_count": 130,
      "metadata": {}
    },
    {
      "cell_type": "code",
      "source": [
        "#avg in Hawaii\n",
        "HI = data[data['state'] == 'HI']['fine_amt']\n",
        "HI.mean()"
      ],
      "outputs": [
        {
          "output_type": "execute_result",
          "execution_count": 132,
          "data": {
            "text/plain": [
              "12797.25"
            ]
          },
          "metadata": {}
        }
      ],
      "execution_count": 132,
      "metadata": {}
    },
    {
      "cell_type": "code",
      "source": [
        "#avg in Iowa\n",
        "IA = data[data['state'] == 'IA']['fine_amt']\n",
        "IA.mean()"
      ],
      "outputs": [
        {
          "output_type": "execute_result",
          "execution_count": 133,
          "data": {
            "text/plain": [
              "19091.34375"
            ]
          },
          "metadata": {}
        }
      ],
      "execution_count": 133,
      "metadata": {}
    },
    {
      "cell_type": "code",
      "source": [
        "#avg in Idaho\n",
        "ID = data[data['state'] == 'ID']['fine_amt']\n",
        "ID.mean()"
      ],
      "outputs": [
        {
          "output_type": "execute_result",
          "execution_count": 134,
          "data": {
            "text/plain": [
              "1780.1969696969697"
            ]
          },
          "metadata": {}
        }
      ],
      "execution_count": 134,
      "metadata": {}
    },
    {
      "cell_type": "code",
      "source": [
        "#avg in Illinois\n",
        "IL = data[data['state'] == 'IL']['fine_amt']\n",
        "IL.mean()"
      ],
      "outputs": [
        {
          "output_type": "execute_result",
          "execution_count": 135,
          "data": {
            "text/plain": [
              "25068.960975609756"
            ]
          },
          "metadata": {}
        }
      ],
      "execution_count": 135,
      "metadata": {}
    },
    {
      "cell_type": "code",
      "source": [
        "#avg in Indiana\n",
        "IN = data[data['state'] == 'IN']['fine_amt']\n",
        "IN.mean()"
      ],
      "outputs": [
        {
          "output_type": "execute_result",
          "execution_count": 136,
          "data": {
            "text/plain": [
              "13289.051612903226"
            ]
          },
          "metadata": {}
        }
      ],
      "execution_count": 136,
      "metadata": {}
    },
    {
      "cell_type": "code",
      "source": [
        "#avg in Kansas\n",
        "KS = data[data['state'] == 'KS']['fine_amt']\n",
        "KS.mean()"
      ],
      "outputs": [
        {
          "output_type": "execute_result",
          "execution_count": 137,
          "data": {
            "text/plain": [
              "18640.813559322032"
            ]
          },
          "metadata": {}
        }
      ],
      "execution_count": 137,
      "metadata": {}
    },
    {
      "cell_type": "code",
      "source": [
        "#avg in Kentucky\n",
        "KY = data[data['state'] == 'KY']['fine_amt']\n",
        "KY.mean()"
      ],
      "outputs": [
        {
          "output_type": "execute_result",
          "execution_count": 138,
          "data": {
            "text/plain": [
              "91270.41025641025"
            ]
          },
          "metadata": {}
        }
      ],
      "execution_count": 138,
      "metadata": {}
    },
    {
      "cell_type": "code",
      "source": [
        "#avg in Louisiana\n",
        "LA = data[data['state'] == 'LA']['fine_amt']\n",
        "LA.mean()"
      ],
      "outputs": [
        {
          "output_type": "execute_result",
          "execution_count": 139,
          "data": {
            "text/plain": [
              "53663.90909090909"
            ]
          },
          "metadata": {}
        }
      ],
      "execution_count": 139,
      "metadata": {}
    },
    {
      "cell_type": "code",
      "source": [
        "#avg in Massachusetts\n",
        "MA = data[data['state'] == 'MA']['fine_amt']\n",
        "MA.mean()"
      ],
      "outputs": [
        {
          "output_type": "execute_result",
          "execution_count": 140,
          "data": {
            "text/plain": [
              "15945.916666666666"
            ]
          },
          "metadata": {}
        }
      ],
      "execution_count": 140,
      "metadata": {}
    },
    {
      "cell_type": "code",
      "source": [
        "#avg in Maryland\n",
        "MD = data[data['state'] == 'MD']['fine_amt']\n",
        "MD.mean()"
      ],
      "outputs": [
        {
          "output_type": "execute_result",
          "execution_count": 141,
          "data": {
            "text/plain": [
              "92603.5"
            ]
          },
          "metadata": {}
        }
      ],
      "execution_count": 141,
      "metadata": {}
    },
    {
      "cell_type": "code",
      "source": [
        "#avg in Maine\n",
        "ME = data[data['state'] == 'ME']['fine_amt']\n",
        "ME.mean()"
      ],
      "outputs": [
        {
          "output_type": "execute_result",
          "execution_count": 142,
          "data": {
            "text/plain": [
              "4230.75"
            ]
          },
          "metadata": {}
        }
      ],
      "execution_count": 142,
      "metadata": {}
    },
    {
      "cell_type": "code",
      "source": [
        "#avg in Michigan\n",
        "MI = data[data['state'] == 'MI']['fine_amt']\n",
        "MI.mean()"
      ],
      "outputs": [
        {
          "output_type": "execute_result",
          "execution_count": 143,
          "data": {
            "text/plain": [
              "11775.371794871795"
            ]
          },
          "metadata": {}
        }
      ],
      "execution_count": 143,
      "metadata": {}
    },
    {
      "cell_type": "code",
      "source": [
        "#avg in Minnesota\n",
        "MN = data[data['state'] == 'MN']['fine_amt']\n",
        "MN.mean()"
      ],
      "outputs": [
        {
          "output_type": "execute_result",
          "execution_count": 144,
          "data": {
            "text/plain": [
              "12661.177419354839"
            ]
          },
          "metadata": {}
        }
      ],
      "execution_count": 144,
      "metadata": {}
    },
    {
      "cell_type": "code",
      "source": [
        "#avg in Missouri\n",
        "MO = data[data['state'] == 'MO']['fine_amt']\n",
        "MO.mean()"
      ],
      "outputs": [
        {
          "output_type": "execute_result",
          "execution_count": 145,
          "data": {
            "text/plain": [
              "25050.89534883721"
            ]
          },
          "metadata": {}
        }
      ],
      "execution_count": 145,
      "metadata": {}
    },
    {
      "cell_type": "code",
      "source": [
        "#avg in Mississippi\n",
        "MS = data[data['state'] == 'MS']['fine_amt']\n",
        "MS.mean()"
      ],
      "outputs": [
        {
          "output_type": "execute_result",
          "execution_count": 146,
          "data": {
            "text/plain": [
              "48725.94736842105"
            ]
          },
          "metadata": {}
        }
      ],
      "execution_count": 146,
      "metadata": {}
    },
    {
      "cell_type": "code",
      "source": [
        "#avg in Montana\n",
        "MT = data[data['state'] == 'MT']['fine_amt']\n",
        "MT.mean()"
      ],
      "outputs": [
        {
          "output_type": "execute_result",
          "execution_count": 147,
          "data": {
            "text/plain": [
              "22510.08"
            ]
          },
          "metadata": {}
        }
      ],
      "execution_count": 147,
      "metadata": {}
    },
    {
      "cell_type": "code",
      "source": [
        "#avg in N.Carolina\n",
        "NC = data[data['state'] == 'NC']['fine_amt']\n",
        "NC.mean()"
      ],
      "outputs": [
        {
          "output_type": "execute_result",
          "execution_count": 148,
          "data": {
            "text/plain": [
              "41121.948837209304"
            ]
          },
          "metadata": {}
        }
      ],
      "execution_count": 148,
      "metadata": {}
    },
    {
      "cell_type": "code",
      "source": [
        "#avg in N. Dakota\n",
        "ND = data[data['state'] == 'ND']['fine_amt']\n",
        "ND.mean()"
      ],
      "outputs": [
        {
          "output_type": "execute_result",
          "execution_count": 149,
          "data": {
            "text/plain": [
              "8750.0"
            ]
          },
          "metadata": {}
        }
      ],
      "execution_count": 149,
      "metadata": {}
    },
    {
      "cell_type": "code",
      "source": [
        "#avg in Nebraska\n",
        "NE = data[data['state'] == 'NE']['fine_amt']\n",
        "NE.mean()"
      ],
      "outputs": [
        {
          "output_type": "execute_result",
          "execution_count": 150,
          "data": {
            "text/plain": [
              "11711.764705882353"
            ]
          },
          "metadata": {}
        }
      ],
      "execution_count": 150,
      "metadata": {}
    },
    {
      "cell_type": "code",
      "source": [
        "#avg in New Hampshire\n",
        "NH = data[data['state'] == 'NH']['fine_amt']\n",
        "NH.mean()"
      ],
      "outputs": [
        {
          "output_type": "execute_result",
          "execution_count": 151,
          "data": {
            "text/plain": [
              "12330.166666666666"
            ]
          },
          "metadata": {}
        }
      ],
      "execution_count": 151,
      "metadata": {}
    },
    {
      "cell_type": "code",
      "source": [
        "#avg in New Jersey\n",
        "NJ = data[data['state'] == 'NJ']['fine_amt']\n",
        "NJ.mean()"
      ],
      "outputs": [
        {
          "output_type": "execute_result",
          "execution_count": 152,
          "data": {
            "text/plain": [
              "13904.532258064517"
            ]
          },
          "metadata": {}
        }
      ],
      "execution_count": 152,
      "metadata": {}
    },
    {
      "cell_type": "code",
      "source": [
        "#avg in New Mexico\n",
        "NM = data[data['state'] == 'NM']['fine_amt']\n",
        "NM.mean()"
      ],
      "outputs": [
        {
          "output_type": "execute_result",
          "execution_count": 153,
          "data": {
            "text/plain": [
              "19194.98076923077"
            ]
          },
          "metadata": {}
        }
      ],
      "execution_count": 153,
      "metadata": {}
    },
    {
      "cell_type": "code",
      "source": [
        "#avg in Nevada\n",
        "NV = data[data['state'] == 'NV']['fine_amt']\n",
        "NV.mean()"
      ],
      "outputs": [
        {
          "output_type": "execute_result",
          "execution_count": 154,
          "data": {
            "text/plain": [
              "15363.333333333334"
            ]
          },
          "metadata": {}
        }
      ],
      "execution_count": 154,
      "metadata": {}
    },
    {
      "cell_type": "code",
      "source": [
        "#avg in New York State\n",
        "NY = data[data['state'] == 'NY']['fine_amt']\n",
        "NY.mean()"
      ],
      "outputs": [
        {
          "output_type": "execute_result",
          "execution_count": 155,
          "data": {
            "text/plain": [
              "23533.977272727272"
            ]
          },
          "metadata": {}
        }
      ],
      "execution_count": 155,
      "metadata": {}
    },
    {
      "cell_type": "code",
      "source": [
        "#avg in Ohio\n",
        "OH = data[data['state'] == 'OH']['fine_amt']\n",
        "OH.mean()"
      ],
      "outputs": [
        {
          "output_type": "execute_result",
          "execution_count": 156,
          "data": {
            "text/plain": [
              "15019.448979591836"
            ]
          },
          "metadata": {}
        }
      ],
      "execution_count": 156,
      "metadata": {}
    },
    {
      "cell_type": "code",
      "source": [
        "#avg in Oklahoma\n",
        "OK = data[data['state'] == 'OK']['fine_amt']\n",
        "OK.mean()"
      ],
      "outputs": [
        {
          "output_type": "execute_result",
          "execution_count": 157,
          "data": {
            "text/plain": [
              "18488.355704697988"
            ]
          },
          "metadata": {}
        }
      ],
      "execution_count": 157,
      "metadata": {}
    },
    {
      "cell_type": "code",
      "source": [
        "#avg in Oregon\n",
        "OR = data[data['state'] == 'OR']['fine_amt']\n",
        "OR.mean()"
      ],
      "outputs": [
        {
          "output_type": "execute_result",
          "execution_count": 158,
          "data": {
            "text/plain": [
              "2170.2705882352943"
            ]
          },
          "metadata": {}
        }
      ],
      "execution_count": 158,
      "metadata": {}
    },
    {
      "cell_type": "code",
      "source": [
        "#avg in Penn.\n",
        "PA = data[data['state'] == 'PA']['fine_amt']\n",
        "PA.mean()"
      ],
      "outputs": [
        {
          "output_type": "execute_result",
          "execution_count": 159,
          "data": {
            "text/plain": [
              "40503.359375"
            ]
          },
          "metadata": {}
        }
      ],
      "execution_count": 159,
      "metadata": {}
    },
    {
      "cell_type": "code",
      "source": [
        "#avg in Rhode Island\n",
        "RI = data[data['state'] == 'RI']['fine_amt']\n",
        "RI.mean()"
      ],
      "outputs": [
        {
          "output_type": "execute_result",
          "execution_count": 160,
          "data": {
            "text/plain": [
              "5924.6"
            ]
          },
          "metadata": {}
        }
      ],
      "execution_count": 160,
      "metadata": {}
    },
    {
      "cell_type": "code",
      "source": [
        "#avg in S. Carolina\n",
        "SC = data[data['state'] == 'SC']['fine_amt']\n",
        "SC.mean()"
      ],
      "outputs": [
        {
          "output_type": "execute_result",
          "execution_count": 161,
          "data": {
            "text/plain": [
              "52081.70238095238"
            ]
          },
          "metadata": {}
        }
      ],
      "execution_count": 161,
      "metadata": {}
    },
    {
      "cell_type": "code",
      "source": [
        "#avg in S. Dakota\n",
        "SD = data[data['state'] == 'SD']['fine_amt']\n",
        "SD.mean()"
      ],
      "outputs": [
        {
          "output_type": "execute_result",
          "execution_count": 162,
          "data": {
            "text/plain": [
              "15637.0"
            ]
          },
          "metadata": {}
        }
      ],
      "execution_count": 162,
      "metadata": {}
    },
    {
      "cell_type": "code",
      "source": [
        "#avg in Tennessee\n",
        "TN = data[data['state'] == 'TN']['fine_amt']\n",
        "TN.mean()"
      ],
      "outputs": [
        {
          "output_type": "execute_result",
          "execution_count": 163,
          "data": {
            "text/plain": [
              "110209.23188405797"
            ]
          },
          "metadata": {}
        }
      ],
      "execution_count": 163,
      "metadata": {}
    },
    {
      "cell_type": "code",
      "source": [
        "#avg in Texas\n",
        "TX = data[data['state'] == 'TX']['fine_amt']\n",
        "TX.mean()"
      ],
      "outputs": [
        {
          "output_type": "execute_result",
          "execution_count": 164,
          "data": {
            "text/plain": [
              "18253.70514603616"
            ]
          },
          "metadata": {}
        }
      ],
      "execution_count": 164,
      "metadata": {}
    },
    {
      "cell_type": "code",
      "source": [
        "#avg in Utah\n",
        "UT = data[data['state'] == 'UT']['fine_amt']\n",
        "UT.mean()"
      ],
      "outputs": [
        {
          "output_type": "execute_result",
          "execution_count": 165,
          "data": {
            "text/plain": [
              "6665.105263157895"
            ]
          },
          "metadata": {}
        }
      ],
      "execution_count": 165,
      "metadata": {}
    },
    {
      "cell_type": "code",
      "source": [
        "#avg in Virginia\n",
        "VA = data[data['state'] == 'VA']['fine_amt']\n",
        "VA.mean()"
      ],
      "outputs": [
        {
          "output_type": "execute_result",
          "execution_count": 166,
          "data": {
            "text/plain": [
              "65670.6"
            ]
          },
          "metadata": {}
        }
      ],
      "execution_count": 166,
      "metadata": {}
    },
    {
      "cell_type": "code",
      "source": [
        "#avg in Vermont\n",
        "VT = data[data['state'] == 'VT']['fine_amt']\n",
        "VT.mean()"
      ],
      "outputs": [
        {
          "output_type": "execute_result",
          "execution_count": 167,
          "data": {
            "text/plain": [
              "30441.923076923078"
            ]
          },
          "metadata": {}
        }
      ],
      "execution_count": 167,
      "metadata": {}
    },
    {
      "cell_type": "code",
      "source": [
        "#avg in Washington State\n",
        "WA = data[data['state'] == 'WA']['fine_amt']\n",
        "WA.mean()"
      ],
      "outputs": [
        {
          "output_type": "execute_result",
          "execution_count": 168,
          "data": {
            "text/plain": [
              "5742.023952095808"
            ]
          },
          "metadata": {}
        }
      ],
      "execution_count": 168,
      "metadata": {}
    },
    {
      "cell_type": "code",
      "source": [
        "#avg in Wisconsin\n",
        "WI = data[data['state'] == 'WI']['fine_amt']\n",
        "WI.mean()"
      ],
      "outputs": [
        {
          "output_type": "execute_result",
          "execution_count": 169,
          "data": {
            "text/plain": [
              "17725.942857142858"
            ]
          },
          "metadata": {}
        }
      ],
      "execution_count": 169,
      "metadata": {}
    },
    {
      "cell_type": "code",
      "source": [
        "#avg in W. VA\n",
        "WV = data[data['state'] == 'WV']['fine_amt']\n",
        "WV.mean()"
      ],
      "outputs": [
        {
          "output_type": "execute_result",
          "execution_count": 170,
          "data": {
            "text/plain": [
              "74387.88888888889"
            ]
          },
          "metadata": {}
        }
      ],
      "execution_count": 170,
      "metadata": {}
    },
    {
      "cell_type": "code",
      "source": [
        "#avg in Wyoming, no fines were found in Wyoming\n",
        "WY = data[data['state'] == 'WY']['fine_amt']\n",
        "WY.mean()"
      ],
      "outputs": [
        {
          "output_type": "execute_result",
          "execution_count": 171,
          "data": {
            "text/plain": [
              "nan"
            ]
          },
          "metadata": {}
        }
      ],
      "execution_count": 171,
      "metadata": {}
    },
    {
      "cell_type": "code",
      "source": [
        "group_by_state.mean()"
      ],
      "outputs": [
        {
          "output_type": "execute_result",
          "execution_count": 172,
          "data": {
            "text/html": [
              "<div>\n",
              "<style scoped>\n",
              "    .dataframe tbody tr th:only-of-type {\n",
              "        vertical-align: middle;\n",
              "    }\n",
              "\n",
              "    .dataframe tbody tr th {\n",
              "        vertical-align: top;\n",
              "    }\n",
              "\n",
              "    .dataframe thead th {\n",
              "        text-align: right;\n",
              "    }\n",
              "</style>\n",
              "<table border=\"1\" class=\"dataframe\">\n",
              "  <thead>\n",
              "    <tr style=\"text-align: right;\">\n",
              "      <th></th>\n",
              "      <th>provnum</th>\n",
              "      <th>zip</th>\n",
              "      <th>fine_amt</th>\n",
              "      <th>payden_days</th>\n",
              "    </tr>\n",
              "    <tr>\n",
              "      <th>state</th>\n",
              "      <th></th>\n",
              "      <th></th>\n",
              "      <th></th>\n",
              "      <th></th>\n",
              "    </tr>\n",
              "  </thead>\n",
              "  <tbody>\n",
              "    <tr>\n",
              "      <th>AK</th>\n",
              "      <td>25026.133333</td>\n",
              "      <td>99687.200000</td>\n",
              "      <td>8701.615385</td>\n",
              "      <td>16.000000</td>\n",
              "    </tr>\n",
              "    <tr>\n",
              "      <th>AL</th>\n",
              "      <td>15273.564516</td>\n",
              "      <td>35970.274194</td>\n",
              "      <td>43613.870370</td>\n",
              "      <td>19.125000</td>\n",
              "    </tr>\n",
              "    <tr>\n",
              "      <th>AR</th>\n",
              "      <td>45324.694805</td>\n",
              "      <td>72204.168831</td>\n",
              "      <td>28491.675439</td>\n",
              "      <td>33.675000</td>\n",
              "    </tr>\n",
              "    <tr>\n",
              "      <th>AZ</th>\n",
              "      <td>35163.977778</td>\n",
              "      <td>85526.933333</td>\n",
              "      <td>26090.387097</td>\n",
              "      <td>22.000000</td>\n",
              "    </tr>\n",
              "    <tr>\n",
              "      <th>CA</th>\n",
              "      <td>306322.363380</td>\n",
              "      <td>93203.146479</td>\n",
              "      <td>25504.463830</td>\n",
              "      <td>43.141667</td>\n",
              "    </tr>\n",
              "    <tr>\n",
              "      <th>CO</th>\n",
              "      <td>65227.933333</td>\n",
              "      <td>80603.425000</td>\n",
              "      <td>6647.887640</td>\n",
              "      <td>30.193548</td>\n",
              "    </tr>\n",
              "    <tr>\n",
              "      <th>CT</th>\n",
              "      <td>75276.450777</td>\n",
              "      <td>6435.891192</td>\n",
              "      <td>5119.935135</td>\n",
              "      <td>9.000000</td>\n",
              "    </tr>\n",
              "    <tr>\n",
              "      <th>DC</th>\n",
              "      <td>95024.062500</td>\n",
              "      <td>20021.562500</td>\n",
              "      <td>99856.666667</td>\n",
              "      <td>63.600000</td>\n",
              "    </tr>\n",
              "    <tr>\n",
              "      <th>DE</th>\n",
              "      <td>85026.000000</td>\n",
              "      <td>19822.666667</td>\n",
              "      <td>37635.142857</td>\n",
              "      <td>31.625000</td>\n",
              "    </tr>\n",
              "    <tr>\n",
              "      <th>FL</th>\n",
              "      <td>105577.786967</td>\n",
              "      <td>33392.573935</td>\n",
              "      <td>25205.172805</td>\n",
              "      <td>24.608696</td>\n",
              "    </tr>\n",
              "    <tr>\n",
              "      <th>GA</th>\n",
              "      <td>115482.669355</td>\n",
              "      <td>31314.088710</td>\n",
              "      <td>46303.424528</td>\n",
              "      <td>33.388889</td>\n",
              "    </tr>\n",
              "    <tr>\n",
              "      <th>HI</th>\n",
              "      <td>125027.461538</td>\n",
              "      <td>96779.615385</td>\n",
              "      <td>12797.250000</td>\n",
              "      <td>3.000000</td>\n",
              "    </tr>\n",
              "    <tr>\n",
              "      <th>IA</th>\n",
              "      <td>165345.000000</td>\n",
              "      <td>51085.214286</td>\n",
              "      <td>19091.343750</td>\n",
              "      <td>32.925926</td>\n",
              "    </tr>\n",
              "    <tr>\n",
              "      <th>ID</th>\n",
              "      <td>135082.012048</td>\n",
              "      <td>83503.385542</td>\n",
              "      <td>1780.196970</td>\n",
              "      <td>41.352941</td>\n",
              "    </tr>\n",
              "    <tr>\n",
              "      <th>IL</th>\n",
              "      <td>145684.754789</td>\n",
              "      <td>61295.233716</td>\n",
              "      <td>25068.960976</td>\n",
              "      <td>25.535714</td>\n",
              "    </tr>\n",
              "    <tr>\n",
              "      <th>IN</th>\n",
              "      <td>155422.957317</td>\n",
              "      <td>46755.073171</td>\n",
              "      <td>13289.051613</td>\n",
              "      <td>38.555556</td>\n",
              "    </tr>\n",
              "    <tr>\n",
              "      <th>KS</th>\n",
              "      <td>175332.834197</td>\n",
              "      <td>66989.611399</td>\n",
              "      <td>18640.813559</td>\n",
              "      <td>37.146667</td>\n",
              "    </tr>\n",
              "    <tr>\n",
              "      <th>KY</th>\n",
              "      <td>185250.940887</td>\n",
              "      <td>41272.886700</td>\n",
              "      <td>91270.410256</td>\n",
              "      <td>33.489362</td>\n",
              "    </tr>\n",
              "    <tr>\n",
              "      <th>LA</th>\n",
              "      <td>195437.677419</td>\n",
              "      <td>70845.403226</td>\n",
              "      <td>53663.909091</td>\n",
              "      <td>22.000000</td>\n",
              "    </tr>\n",
              "    <tr>\n",
              "      <th>MA</th>\n",
              "      <td>225432.003817</td>\n",
              "      <td>1865.416031</td>\n",
              "      <td>15945.916667</td>\n",
              "      <td>35.300000</td>\n",
              "    </tr>\n",
              "    <tr>\n",
              "      <th>MD</th>\n",
              "      <td>215167.767442</td>\n",
              "      <td>21310.372093</td>\n",
              "      <td>92603.500000</td>\n",
              "      <td>37.727273</td>\n",
              "    </tr>\n",
              "    <tr>\n",
              "      <th>ME</th>\n",
              "      <td>205104.214286</td>\n",
              "      <td>4551.214286</td>\n",
              "      <td>4230.750000</td>\n",
              "      <td>8.000000</td>\n",
              "    </tr>\n",
              "    <tr>\n",
              "      <th>MI</th>\n",
              "      <td>235353.508361</td>\n",
              "      <td>48806.622074</td>\n",
              "      <td>11775.371795</td>\n",
              "      <td>28.030769</td>\n",
              "    </tr>\n",
              "    <tr>\n",
              "      <th>MN</th>\n",
              "      <td>245391.013333</td>\n",
              "      <td>55949.653333</td>\n",
              "      <td>12661.177419</td>\n",
              "      <td>28.384615</td>\n",
              "    </tr>\n",
              "    <tr>\n",
              "      <th>MO</th>\n",
              "      <td>265503.613793</td>\n",
              "      <td>64121.917241</td>\n",
              "      <td>25050.895349</td>\n",
              "      <td>47.593220</td>\n",
              "    </tr>\n",
              "    <tr>\n",
              "      <th>MS</th>\n",
              "      <td>255225.111111</td>\n",
              "      <td>39264.444444</td>\n",
              "      <td>48725.947368</td>\n",
              "      <td>24.428571</td>\n",
              "    </tr>\n",
              "    <tr>\n",
              "      <th>MT</th>\n",
              "      <td>275102.210526</td>\n",
              "      <td>59516.447368</td>\n",
              "      <td>22510.080000</td>\n",
              "      <td>26.923077</td>\n",
              "    </tr>\n",
              "    <tr>\n",
              "      <th>NC</th>\n",
              "      <td>345298.421488</td>\n",
              "      <td>28060.566116</td>\n",
              "      <td>41121.948837</td>\n",
              "      <td>25.703704</td>\n",
              "    </tr>\n",
              "    <tr>\n",
              "      <th>ND</th>\n",
              "      <td>355104.500000</td>\n",
              "      <td>58109.000000</td>\n",
              "      <td>8750.000000</td>\n",
              "      <td>6.000000</td>\n",
              "    </tr>\n",
              "    <tr>\n",
              "      <th>NE</th>\n",
              "      <td>285173.720930</td>\n",
              "      <td>68505.279070</td>\n",
              "      <td>11711.764706</td>\n",
              "      <td>25.307692</td>\n",
              "    </tr>\n",
              "    <tr>\n",
              "      <th>NH</th>\n",
              "      <td>305057.000000</td>\n",
              "      <td>3334.857143</td>\n",
              "      <td>12330.166667</td>\n",
              "      <td>33.000000</td>\n",
              "    </tr>\n",
              "    <tr>\n",
              "      <th>NJ</th>\n",
              "      <td>315273.765625</td>\n",
              "      <td>8007.218750</td>\n",
              "      <td>13904.532258</td>\n",
              "      <td>23.000000</td>\n",
              "    </tr>\n",
              "    <tr>\n",
              "      <th>NM</th>\n",
              "      <td>325065.250000</td>\n",
              "      <td>87542.355263</td>\n",
              "      <td>19194.980769</td>\n",
              "      <td>36.625000</td>\n",
              "    </tr>\n",
              "    <tr>\n",
              "      <th>NV</th>\n",
              "      <td>295053.368421</td>\n",
              "      <td>89217.157895</td>\n",
              "      <td>15363.333333</td>\n",
              "      <td>17.500000</td>\n",
              "    </tr>\n",
              "    <tr>\n",
              "      <th>NY</th>\n",
              "      <td>335535.122449</td>\n",
              "      <td>12855.979592</td>\n",
              "      <td>23533.977273</td>\n",
              "      <td>54.800000</td>\n",
              "    </tr>\n",
              "    <tr>\n",
              "      <th>OH</th>\n",
              "      <td>365803.227154</td>\n",
              "      <td>44275.947781</td>\n",
              "      <td>15019.448980</td>\n",
              "      <td>21.750000</td>\n",
              "    </tr>\n",
              "    <tr>\n",
              "      <th>OK</th>\n",
              "      <td>375367.377193</td>\n",
              "      <td>73857.135965</td>\n",
              "      <td>18488.355705</td>\n",
              "      <td>35.000000</td>\n",
              "    </tr>\n",
              "    <tr>\n",
              "      <th>OR</th>\n",
              "      <td>385167.643678</td>\n",
              "      <td>97358.919540</td>\n",
              "      <td>2170.270588</td>\n",
              "      <td>30.000000</td>\n",
              "    </tr>\n",
              "    <tr>\n",
              "      <th>PA</th>\n",
              "      <td>395527.875000</td>\n",
              "      <td>17783.863636</td>\n",
              "      <td>40503.359375</td>\n",
              "      <td>34.291667</td>\n",
              "    </tr>\n",
              "    <tr>\n",
              "      <th>PR</th>\n",
              "      <td>405023.777778</td>\n",
              "      <td>745.222222</td>\n",
              "      <td>14133.500000</td>\n",
              "      <td>14.000000</td>\n",
              "    </tr>\n",
              "    <tr>\n",
              "      <th>RI</th>\n",
              "      <td>415083.384615</td>\n",
              "      <td>2888.615385</td>\n",
              "      <td>5924.600000</td>\n",
              "      <td>26.333333</td>\n",
              "    </tr>\n",
              "    <tr>\n",
              "      <th>SC</th>\n",
              "      <td>425208.800000</td>\n",
              "      <td>29439.610526</td>\n",
              "      <td>52081.702381</td>\n",
              "      <td>15.272727</td>\n",
              "    </tr>\n",
              "    <tr>\n",
              "      <th>SD</th>\n",
              "      <td>435051.750000</td>\n",
              "      <td>57290.666667</td>\n",
              "      <td>15637.000000</td>\n",
              "      <td>22.000000</td>\n",
              "    </tr>\n",
              "    <tr>\n",
              "      <th>TN</th>\n",
              "      <td>445289.777778</td>\n",
              "      <td>37747.677778</td>\n",
              "      <td>110209.231884</td>\n",
              "      <td>22.761905</td>\n",
              "    </tr>\n",
              "    <tr>\n",
              "      <th>TX</th>\n",
              "      <td>625844.491935</td>\n",
              "      <td>77091.967742</td>\n",
              "      <td>18253.705146</td>\n",
              "      <td>26.978022</td>\n",
              "    </tr>\n",
              "    <tr>\n",
              "      <th>UT</th>\n",
              "      <td>465094.536585</td>\n",
              "      <td>84289.292683</td>\n",
              "      <td>6665.105263</td>\n",
              "      <td>14.000000</td>\n",
              "    </tr>\n",
              "    <tr>\n",
              "      <th>VA</th>\n",
              "      <td>495249.532258</td>\n",
              "      <td>23238.612903</td>\n",
              "      <td>65670.600000</td>\n",
              "      <td>21.647059</td>\n",
              "    </tr>\n",
              "    <tr>\n",
              "      <th>VT</th>\n",
              "      <td>475030.000000</td>\n",
              "      <td>5561.117647</td>\n",
              "      <td>30441.923077</td>\n",
              "      <td>19.250000</td>\n",
              "    </tr>\n",
              "    <tr>\n",
              "      <th>WA</th>\n",
              "      <td>505311.724719</td>\n",
              "      <td>98513.685393</td>\n",
              "      <td>5742.023952</td>\n",
              "      <td>18.818182</td>\n",
              "    </tr>\n",
              "    <tr>\n",
              "      <th>WI</th>\n",
              "      <td>525449.408889</td>\n",
              "      <td>53870.191111</td>\n",
              "      <td>17725.942857</td>\n",
              "      <td>27.160000</td>\n",
              "    </tr>\n",
              "    <tr>\n",
              "      <th>WV</th>\n",
              "      <td>515108.352941</td>\n",
              "      <td>25822.088235</td>\n",
              "      <td>74387.888889</td>\n",
              "      <td>21.428571</td>\n",
              "    </tr>\n",
              "    <tr>\n",
              "      <th>WY</th>\n",
              "      <td>535034.285714</td>\n",
              "      <td>82402.857143</td>\n",
              "      <td>NaN</td>\n",
              "      <td>33.285714</td>\n",
              "    </tr>\n",
              "  </tbody>\n",
              "</table>\n",
              "</div>"
            ],
            "text/plain": [
              "             provnum           zip       fine_amt  payden_days\n",
              "state                                                         \n",
              "AK      25026.133333  99687.200000    8701.615385    16.000000\n",
              "AL      15273.564516  35970.274194   43613.870370    19.125000\n",
              "AR      45324.694805  72204.168831   28491.675439    33.675000\n",
              "AZ      35163.977778  85526.933333   26090.387097    22.000000\n",
              "CA     306322.363380  93203.146479   25504.463830    43.141667\n",
              "CO      65227.933333  80603.425000    6647.887640    30.193548\n",
              "CT      75276.450777   6435.891192    5119.935135     9.000000\n",
              "DC      95024.062500  20021.562500   99856.666667    63.600000\n",
              "DE      85026.000000  19822.666667   37635.142857    31.625000\n",
              "FL     105577.786967  33392.573935   25205.172805    24.608696\n",
              "GA     115482.669355  31314.088710   46303.424528    33.388889\n",
              "HI     125027.461538  96779.615385   12797.250000     3.000000\n",
              "IA     165345.000000  51085.214286   19091.343750    32.925926\n",
              "ID     135082.012048  83503.385542    1780.196970    41.352941\n",
              "IL     145684.754789  61295.233716   25068.960976    25.535714\n",
              "IN     155422.957317  46755.073171   13289.051613    38.555556\n",
              "KS     175332.834197  66989.611399   18640.813559    37.146667\n",
              "KY     185250.940887  41272.886700   91270.410256    33.489362\n",
              "LA     195437.677419  70845.403226   53663.909091    22.000000\n",
              "MA     225432.003817   1865.416031   15945.916667    35.300000\n",
              "MD     215167.767442  21310.372093   92603.500000    37.727273\n",
              "ME     205104.214286   4551.214286    4230.750000     8.000000\n",
              "MI     235353.508361  48806.622074   11775.371795    28.030769\n",
              "MN     245391.013333  55949.653333   12661.177419    28.384615\n",
              "MO     265503.613793  64121.917241   25050.895349    47.593220\n",
              "MS     255225.111111  39264.444444   48725.947368    24.428571\n",
              "MT     275102.210526  59516.447368   22510.080000    26.923077\n",
              "NC     345298.421488  28060.566116   41121.948837    25.703704\n",
              "ND     355104.500000  58109.000000    8750.000000     6.000000\n",
              "NE     285173.720930  68505.279070   11711.764706    25.307692\n",
              "NH     305057.000000   3334.857143   12330.166667    33.000000\n",
              "NJ     315273.765625   8007.218750   13904.532258    23.000000\n",
              "NM     325065.250000  87542.355263   19194.980769    36.625000\n",
              "NV     295053.368421  89217.157895   15363.333333    17.500000\n",
              "NY     335535.122449  12855.979592   23533.977273    54.800000\n",
              "OH     365803.227154  44275.947781   15019.448980    21.750000\n",
              "OK     375367.377193  73857.135965   18488.355705    35.000000\n",
              "OR     385167.643678  97358.919540    2170.270588    30.000000\n",
              "PA     395527.875000  17783.863636   40503.359375    34.291667\n",
              "PR     405023.777778    745.222222   14133.500000    14.000000\n",
              "RI     415083.384615   2888.615385    5924.600000    26.333333\n",
              "SC     425208.800000  29439.610526   52081.702381    15.272727\n",
              "SD     435051.750000  57290.666667   15637.000000    22.000000\n",
              "TN     445289.777778  37747.677778  110209.231884    22.761905\n",
              "TX     625844.491935  77091.967742   18253.705146    26.978022\n",
              "UT     465094.536585  84289.292683    6665.105263    14.000000\n",
              "VA     495249.532258  23238.612903   65670.600000    21.647059\n",
              "VT     475030.000000   5561.117647   30441.923077    19.250000\n",
              "WA     505311.724719  98513.685393    5742.023952    18.818182\n",
              "WI     525449.408889  53870.191111   17725.942857    27.160000\n",
              "WV     515108.352941  25822.088235   74387.888889    21.428571\n",
              "WY     535034.285714  82402.857143            NaN    33.285714"
            ]
          },
          "metadata": {}
        }
      ],
      "execution_count": 172,
      "metadata": {
        "scrolled": false
      }
    },
    {
      "cell_type": "code",
      "source": [
        "#create a new dataframe - KEEP THIS CODE, IT WORKS!\n",
        "def select_columns(data_frame, state, fine_amt):\n",
        "    new_frame = data_frame.loc[:, column_names]\n",
        "    return new_frame\n",
        "    print(new_frame)"
      ],
      "outputs": [],
      "execution_count": 200,
      "metadata": {}
    },
    {
      "cell_type": "code",
      "source": [
        "#Importing Dependencies\n",
        "import pandas as pd\n",
        "import csv\n",
        "import numpy as np\n",
        "from matplotlib import pyplot as plt\n",
        "from scipy import stats\n",
        "import requests\n",
        "import json\n",
        "import statistics\n",
        "%matplotlib inline"
      ],
      "outputs": [],
      "execution_count": 13,
      "metadata": {}
    },
    {
      "cell_type": "code",
      "source": [
        "df = pd.read_csv('Penalties by State CSV.csv')\n",
        "df_nona = df.dropna()\n",
        "df_nona.dtypes"
      ],
      "outputs": [
        {
          "output_type": "execute_result",
          "execution_count": 16,
          "data": {
            "text/plain": [
              "provnum             int64\n",
              "provname           object\n",
              "address            object\n",
              "city               object\n",
              "state              object\n",
              "zip                 int64\n",
              "pnlty_date         object\n",
              "pnlty_type         object\n",
              "fine_amt          float64\n",
              "payden_strt_dt     object\n",
              "payden_days       float64\n",
              "filedate           object\n",
              "dtype: object"
            ]
          },
          "metadata": {}
        }
      ],
      "execution_count": 16,
      "metadata": {}
    },
    {
      "cell_type": "code",
      "source": [
        "#avg fine by state***"
      ],
      "outputs": [],
      "execution_count": null,
      "metadata": {}
    }
  ],
  "metadata": {
    "kernelspec": {
      "name": "python3",
      "language": "python",
      "display_name": "Python 3"
    },
    "language_info": {
      "name": "python",
      "version": "3.7.4",
      "mimetype": "text/x-python",
      "codemirror_mode": {
        "name": "ipython",
        "version": 3
      },
      "pygments_lexer": "ipython3",
      "nbconvert_exporter": "python",
      "file_extension": ".py"
    },
    "kernel_info": {
      "name": "python3"
    },
    "nteract": {
      "version": "0.15.0"
    }
  },
  "nbformat": 4,
  "nbformat_minor": 2
}
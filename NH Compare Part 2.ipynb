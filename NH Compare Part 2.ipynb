{
  "cells": [
    {
      "cell_type": "code",
      "source": [
        "import pandas as pd\n",
        "import matplotlib.pyplot as plt"
      ],
      "outputs": [],
      "execution_count": 2,
      "metadata": {}
    },
    {
      "cell_type": "code",
      "source": [
        "state_data = pd.read_excel(\"StateData.xlsx\")\n",
        "state_data.head()"
      ],
      "outputs": [
        {
          "output_type": "execute_result",
          "execution_count": 5,
          "data": {
            "text/html": [
              "<div>\n",
              "<style scoped>\n",
              "    .dataframe tbody tr th:only-of-type {\n",
              "        vertical-align: middle;\n",
              "    }\n",
              "\n",
              "    .dataframe tbody tr th {\n",
              "        vertical-align: top;\n",
              "    }\n",
              "\n",
              "    .dataframe thead th {\n",
              "        text-align: right;\n",
              "    }\n",
              "</style>\n",
              "<table border=\"1\" class=\"dataframe\">\n",
              "  <thead>\n",
              "    <tr style=\"text-align: right;\">\n",
              "      <th></th>\n",
              "      <th>provnum</th>\n",
              "      <th>provname</th>\n",
              "      <th>address</th>\n",
              "      <th>city</th>\n",
              "      <th>state</th>\n",
              "      <th>zip</th>\n",
              "      <th>pnlty_date</th>\n",
              "      <th>pnlty_type</th>\n",
              "      <th>fine_amt</th>\n",
              "      <th>payden_strt_dt</th>\n",
              "      <th>payden_days</th>\n",
              "      <th>filedate</th>\n",
              "    </tr>\n",
              "  </thead>\n",
              "  <tbody>\n",
              "    <tr>\n",
              "      <th>0</th>\n",
              "      <td>15019</td>\n",
              "      <td>MERRY WOOD LODGE CARE AND REHABILITATION CENTER</td>\n",
              "      <td>P O BOX 130</td>\n",
              "      <td>ELMORE</td>\n",
              "      <td>AL</td>\n",
              "      <td>36025</td>\n",
              "      <td>2014-10-02</td>\n",
              "      <td>Fine</td>\n",
              "      <td>6600.0</td>\n",
              "      <td>NaT</td>\n",
              "      <td>NaN</td>\n",
              "      <td>2016-10-01</td>\n",
              "    </tr>\n",
              "    <tr>\n",
              "      <th>1</th>\n",
              "      <td>15027</td>\n",
              "      <td>WETUMPKA HEALTH AND REHABILITATION, LLC</td>\n",
              "      <td>1825 HOLTVILLE ROAD</td>\n",
              "      <td>WETUMPKA</td>\n",
              "      <td>AL</td>\n",
              "      <td>36092</td>\n",
              "      <td>2014-06-06</td>\n",
              "      <td>Fine</td>\n",
              "      <td>13800.0</td>\n",
              "      <td>NaT</td>\n",
              "      <td>NaN</td>\n",
              "      <td>2016-10-01</td>\n",
              "    </tr>\n",
              "    <tr>\n",
              "      <th>2</th>\n",
              "      <td>15037</td>\n",
              "      <td>WOODLEY MANOR HEALTH &amp; REHABILITATION</td>\n",
              "      <td>3312 WOODLEY ROAD</td>\n",
              "      <td>MONTGOMERY</td>\n",
              "      <td>AL</td>\n",
              "      <td>36116</td>\n",
              "      <td>2015-05-21</td>\n",
              "      <td>Fine</td>\n",
              "      <td>13813.0</td>\n",
              "      <td>NaT</td>\n",
              "      <td>NaN</td>\n",
              "      <td>2016-10-01</td>\n",
              "    </tr>\n",
              "    <tr>\n",
              "      <th>3</th>\n",
              "      <td>15047</td>\n",
              "      <td>NORTHWAY HEALTH AND REHABILITATION, LLC</td>\n",
              "      <td>1424 NORTH 25TH STREET</td>\n",
              "      <td>BIRMINGHAM</td>\n",
              "      <td>AL</td>\n",
              "      <td>35234</td>\n",
              "      <td>2016-01-27</td>\n",
              "      <td>Fine</td>\n",
              "      <td>13260.0</td>\n",
              "      <td>NaT</td>\n",
              "      <td>NaN</td>\n",
              "      <td>2016-10-01</td>\n",
              "    </tr>\n",
              "    <tr>\n",
              "      <th>4</th>\n",
              "      <td>15048</td>\n",
              "      <td>CULLMAN HEALTH CARE CENTER</td>\n",
              "      <td>1607 MAIN AVE NE</td>\n",
              "      <td>CULLMAN</td>\n",
              "      <td>AL</td>\n",
              "      <td>35055</td>\n",
              "      <td>2016-01-14</td>\n",
              "      <td>Fine</td>\n",
              "      <td>2210.0</td>\n",
              "      <td>NaT</td>\n",
              "      <td>NaN</td>\n",
              "      <td>2016-10-01</td>\n",
              "    </tr>\n",
              "  </tbody>\n",
              "</table>\n",
              "</div>"
            ],
            "text/plain": [
              "   provnum                                         provname  \\\n",
              "0    15019  MERRY WOOD LODGE CARE AND REHABILITATION CENTER   \n",
              "1    15027          WETUMPKA HEALTH AND REHABILITATION, LLC   \n",
              "2    15037            WOODLEY MANOR HEALTH & REHABILITATION   \n",
              "3    15047          NORTHWAY HEALTH AND REHABILITATION, LLC   \n",
              "4    15048                       CULLMAN HEALTH CARE CENTER   \n",
              "\n",
              "                  address        city state    zip pnlty_date pnlty_type  \\\n",
              "0             P O BOX 130      ELMORE    AL  36025 2014-10-02       Fine   \n",
              "1     1825 HOLTVILLE ROAD    WETUMPKA    AL  36092 2014-06-06       Fine   \n",
              "2       3312 WOODLEY ROAD  MONTGOMERY    AL  36116 2015-05-21       Fine   \n",
              "3  1424 NORTH 25TH STREET  BIRMINGHAM    AL  35234 2016-01-27       Fine   \n",
              "4        1607 MAIN AVE NE     CULLMAN    AL  35055 2016-01-14       Fine   \n",
              "\n",
              "   fine_amt payden_strt_dt  payden_days   filedate  \n",
              "0    6600.0            NaT          NaN 2016-10-01  \n",
              "1   13800.0            NaT          NaN 2016-10-01  \n",
              "2   13813.0            NaT          NaN 2016-10-01  \n",
              "3   13260.0            NaT          NaN 2016-10-01  \n",
              "4    2210.0            NaT          NaN 2016-10-01  "
            ]
          },
          "metadata": {}
        }
      ],
      "execution_count": 5,
      "metadata": {}
    },
    {
      "cell_type": "code",
      "source": [
        "#Avg Penalty by State Bar Chart\n",
        "state_groupby = state_data.groupby(['state'])"
      ],
      "outputs": [],
      "execution_count": 6,
      "metadata": {}
    },
    {
      "cell_type": "code",
      "source": [
        "avg = state_groupby['fine_amt'].mean()"
      ],
      "outputs": [],
      "execution_count": 8,
      "metadata": {}
    },
    {
      "cell_type": "code",
      "source": [
        "fig, ax = plt.subplots(figsize=(15,12))\n",
        "plt.xlabel(\"State\", fontsize=10)\n",
        "plt.ylabel('Fine_Amt', fontsize=10)\n",
        "width = 5.0 \n",
        "plt.title(\"Penalties by State in 2016\")\n",
        "avg.plot(kind=\"bar\")\n",
        "plt.show()"
      ],
      "outputs": [
        {
          "output_type": "display_data",
          "data": {
            "image/png": "[encoded data removed]",
            "text/plain": [
              "<Figure size 1080x864 with 1 Axes>"
            ]
          },
          "metadata": {
            "needs_background": "light"
          }
        }
      ],
      "execution_count": 31,
      "metadata": {}
    },
    {
      "cell_type": "code",
      "source": [
        "#compare states by penalties and pmt denials\n",
        "penalty_counts = state_data['pnlty_type'].value_counts()\n",
        "penalty_counts"
      ],
      "outputs": [
        {
          "output_type": "execute_result",
          "execution_count": 11,
          "data": {
            "text/plain": [
              "Fine              5234\n",
              "Payment Denial    1409\n",
              "Name: pnlty_type, dtype: int64"
            ]
          },
          "metadata": {}
        }
      ],
      "execution_count": 11,
      "metadata": {}
    },
    {
      "cell_type": "code",
      "source": [
        "#'fines vs. payment denials - National Average'\n",
        "penalty_counts.plot(kind=\"pie\")\n",
        "plt.show()"
      ],
      "outputs": [
        {
          "output_type": "display_data",
          "data": {
            "image/png": "[encoded data removed]",
            "text/plain": [
              "<Figure size 432x288 with 1 Axes>"
            ]
          },
          "metadata": {}
        }
      ],
      "execution_count": 12,
      "metadata": {}
    },
    {
      "cell_type": "code",
      "source": [
        "date_counts = state_data[\"pnlty_date\"].value_counts()\n",
        "date_counts "
      ],
      "outputs": [
        {
          "output_type": "execute_result",
          "execution_count": 18,
          "data": {
            "text/plain": [
              "2015-08-27    34\n",
              "2015-06-11    34\n",
              "2015-07-02    34\n",
              "2015-11-19    30\n",
              "2013-12-05    28\n",
              "2014-05-16    27\n",
              "2016-01-14    27\n",
              "2014-03-21    26\n",
              "2015-06-18    25\n",
              "2014-02-20    24\n",
              "2014-12-18    24\n",
              "2015-08-06    24\n",
              "2014-07-17    24\n",
              "2015-08-20    23\n",
              "2014-11-20    23\n",
              "2015-03-26    23\n",
              "2014-09-18    22\n",
              "2014-10-24    22\n",
              "2013-11-22    22\n",
              "2014-08-07    22\n",
              "2013-11-07    22\n",
              "2015-09-03    22\n",
              "2015-08-28    21\n",
              "2014-10-02    21\n",
              "2014-11-06    21\n",
              "2014-03-27    21\n",
              "2014-03-06    21\n",
              "2013-12-19    21\n",
              "2014-10-30    20\n",
              "2016-05-19    20\n",
              "              ..\n",
              "2014-12-21     1\n",
              "2016-01-30     1\n",
              "2015-08-02     1\n",
              "2014-12-13     1\n",
              "2014-03-29     1\n",
              "2013-10-19     1\n",
              "2016-06-22     1\n",
              "2015-09-19     1\n",
              "2014-11-08     1\n",
              "2015-01-19     1\n",
              "2016-08-22     1\n",
              "2016-07-13     1\n",
              "2016-07-27     1\n",
              "2015-01-17     1\n",
              "2016-06-07     1\n",
              "2014-02-22     1\n",
              "2016-02-07     1\n",
              "2015-05-17     1\n",
              "2013-12-02     1\n",
              "2016-02-13     1\n",
              "2015-10-03     1\n",
              "2016-07-05     1\n",
              "2016-02-20     1\n",
              "2015-03-21     1\n",
              "2014-03-15     1\n",
              "2014-09-27     1\n",
              "2015-08-31     1\n",
              "2013-11-03     1\n",
              "2015-10-06     1\n",
              "2016-01-09     1\n",
              "Name: pnlty_date, Length: 780, dtype: int64"
            ]
          },
          "metadata": {}
        }
      ],
      "execution_count": 18,
      "metadata": {}
    },
    {
      "cell_type": "code",
      "source": [
        "#Count of Penalties by date\n",
        "date_counts.plot(kind=\"line\")\n",
        "plt.show()"
      ],
      "outputs": [
        {
          "output_type": "display_data",
          "data": {
            "image/png": "[encoded data removed]",
            "text/plain": [
              "<Figure size 432x288 with 1 Axes>"
            ]
          },
          "metadata": {
            "needs_background": "light"
          }
        }
      ],
      "execution_count": 16,
      "metadata": {}
    },
    {
      "cell_type": "code",
      "source": [],
      "outputs": [],
      "execution_count": null,
      "metadata": {}
    }
  ],
  "metadata": {
    "kernelspec": {
      "name": "python3",
      "language": "python",
      "display_name": "Python 3"
    },
    "language_info": {
      "name": "python",
      "version": "3.7.4",
      "mimetype": "text/x-python",
      "codemirror_mode": {
        "name": "ipython",
        "version": 3
      },
      "pygments_lexer": "ipython3",
      "nbconvert_exporter": "python",
      "file_extension": ".py"
    },
    "kernel_info": {
      "name": "python3"
    },
    "nteract": {
      "version": "0.15.0"
    }
  },
  "nbformat": 4,
  "nbformat_minor": 2
}